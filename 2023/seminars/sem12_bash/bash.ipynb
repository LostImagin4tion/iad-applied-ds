{
  "nbformat": 4,
  "nbformat_minor": 0,
  "metadata": {
    "kernelspec": {
      "display_name": "Python 3",
      "language": "python",
      "name": "python3"
    },
    "language_info": {
      "codemirror_mode": {
        "name": "ipython",
        "version": 3
      },
      "file_extension": ".py",
      "mimetype": "text/x-python",
      "name": "python",
      "nbconvert_exporter": "python",
      "pygments_lexer": "ipython3",
      "version": "3.8.8"
    },
    "colab": {
      "provenance": []
    }
  },
  "cells": [
    {
      "cell_type": "markdown",
      "metadata": {
        "id": "d0lIrW0DTaBJ"
      },
      "source": [
        "# Bash\n",
        "\n",
        "Когда речь заходит об обработке больших данных, на первый план выходят задачи по грамотной манипуляции данными, конвертированию и выгрузке, настройке специализированных инструментов и так далее. Чтобы уметь решать такие задачи с кайфом, нужно обрести уверенные навыки работы в терминале и командных оболочках.\n",
        "\n",
        "Bash - наиболее популярная командная оболочка в UNIX-like система. Когда вы пользуетесь терминалом на своем компьютере, то вы почти наверное используете именно Bash.\n",
        "\n",
        "В баш встроено огромное количество функциональности, которая не ограничивается лишь запуском программ."
      ]
    },
    {
      "cell_type": "code",
      "metadata": {
        "colab": {
          "base_uri": "https://localhost:8080/"
        },
        "id": "emuw1kzxTaBO",
        "outputId": "cab35b93-7f73-413f-cf96-c834efec106e"
      },
      "source": [
        "## Скачаем данные для семинара. Они потребуются позже\n",
        "\n",
        "! wget https://people.sc.fsu.edu/~jburkardt/data/csv/grades.csv\n",
        "! wget https://raw.githubusercontent.com/ADKosm/lsml-2021-public/main/data/sem2/covid.json"
      ],
      "execution_count": null,
      "outputs": [
        {
          "output_type": "stream",
          "text": [
            "--2021-05-20 08:18:35--  https://people.sc.fsu.edu/~jburkardt/data/csv/grades.csv\n",
            "Resolving people.sc.fsu.edu (people.sc.fsu.edu)... 144.174.16.102\n",
            "Connecting to people.sc.fsu.edu (people.sc.fsu.edu)|144.174.16.102|:443... connected.\n",
            "HTTP request sent, awaiting response... 200 OK\n",
            "Length: 1545 (1.5K) [text/csv]\n",
            "Saving to: ‘grades.csv.1’\n",
            "\n",
            "\rgrades.csv.1          0%[                    ]       0  --.-KB/s               \rgrades.csv.1        100%[===================>]   1.51K  --.-KB/s    in 0s      \n",
            "\n",
            "2021-05-20 08:18:35 (259 MB/s) - ‘grades.csv.1’ saved [1545/1545]\n",
            "\n",
            "--2021-05-20 08:18:35--  https://raw.githubusercontent.com/ADKosm/lsml-2021-public/main/data/sem2/covid.json\n",
            "Resolving raw.githubusercontent.com (raw.githubusercontent.com)... 185.199.108.133, 185.199.110.133, 185.199.109.133, ...\n",
            "Connecting to raw.githubusercontent.com (raw.githubusercontent.com)|185.199.108.133|:443... connected.\n",
            "HTTP request sent, awaiting response... 200 OK\n",
            "Length: 517194 (505K) [text/plain]\n",
            "Saving to: ‘covid.json.1’\n",
            "\n",
            "covid.json.1        100%[===================>] 505.07K  --.-KB/s    in 0.04s   \n",
            "\n",
            "2021-05-20 08:18:35 (11.5 MB/s) - ‘covid.json.1’ saved [517194/517194]\n",
            "\n"
          ],
          "name": "stdout"
        }
      ]
    },
    {
      "cell_type": "markdown",
      "metadata": {
        "id": "h8PwwJl7TaBQ"
      },
      "source": [
        "# Потоки данных\n",
        "\n",
        "Сильная сторона языка Bash - это возможности по работе с перенаправлениями потоками данных между подпрограммами.\n",
        "\n",
        "Для Bash каждую программу можно представить в следующем виде - это черный ящик, которому\n",
        "\n",
        "На вход подается какой-то источник данных, а также аргументы запуска\n",
        "\n",
        "На выход выдает два источника данных - это вывод результата и вывод ошибок.\n",
        "\n",
        "<img src=\"https://raw.githubusercontent.com/ADKosm/lsml-2021-public/main/imgs/bash-flow-control-1.png\">\n",
        "\n",
        "Чаще всего к такому \"ящику\" подключаются три стандартный источника данных - это stdin, stdout и stderr.\n",
        "\n",
        "<img src=\"https://raw.githubusercontent.com/ADKosm/lsml-2021-public/main/imgs/bash-flow-control-2.png\">\n",
        "\n",
        "Все эти три источника, как и все в UNIX, являются виртуальными файлами и выполняют следующие функции\n",
        "\n",
        "* stdin представляет весь поток данных, который пользователь вводит с клавиатуры\n",
        "* stdout представляет весь поток данных, который программа печатает на экран\n",
        "* stderr представляет весь поток данных об ошибках в работе программы, который программа также печатает на экран\n",
        "\n",
        "Все эти источники находятся по следующим путям: `/dev/stdout`, `/dev/stdin`, `/dev/stderr`. Можно заглянуть в директорию `/dev/` и посмотреть, сколько еще виртуальных источников данных есть в компьютере."
      ]
    },
    {
      "cell_type": "code",
      "metadata": {
        "colab": {
          "base_uri": "https://localhost:8080/"
        },
        "id": "fr8mWdlpTaBQ",
        "outputId": "7a792e56-c61a-45b5-94e6-35610f1efe5a"
      },
      "source": [
        "! ls /dev"
      ],
      "execution_count": null,
      "outputs": [
        {
          "output_type": "stream",
          "text": [
            "core  full  mqueue  ptmx  random  stderr  stdout  urandom\n",
            "fd    fuse  null    pts   shm\t  stdin   tty\t  zero\n"
          ],
          "name": "stdout"
        }
      ]
    },
    {
      "cell_type": "markdown",
      "metadata": {
        "id": "oMb-jufCTaBR"
      },
      "source": [
        "Волшебство UNIX заключается в том, что мы можем работать с этими источниками как с самыми обычными файлами. Например, давайте попробуем что-то написать в файл /dev/stdout"
      ]
    },
    {
      "cell_type": "code",
      "metadata": {
        "colab": {
          "base_uri": "https://localhost:8080/"
        },
        "id": "iqf-bg1pTaBR",
        "outputId": "44ce635e-3b38-4d18-9f8e-607d467f1078"
      },
      "source": [
        "%%writefile hello-stdout.py\n",
        "with open('/dev/stdout', 'w') as f:\n",
        "    f.write(\"HELLO, STDOUT!\")  # Пишем в специальный файл, вместо print"
      ],
      "execution_count": null,
      "outputs": [
        {
          "output_type": "stream",
          "text": [
            "Writing hello-stdout.py\n"
          ],
          "name": "stdout"
        }
      ]
    },
    {
      "cell_type": "code",
      "metadata": {
        "colab": {
          "base_uri": "https://localhost:8080/"
        },
        "id": "5uQgeCk534si",
        "outputId": "a0e50a31-75f6-40ea-d805-d02570083be4"
      },
      "source": [
        "! ls"
      ],
      "execution_count": null,
      "outputs": [
        {
          "output_type": "stream",
          "text": [
            "covid.json    grades.csv    hello-stdout.py\n",
            "covid.json.1  grades.csv.1  sample_data\n"
          ],
          "name": "stdout"
        }
      ]
    },
    {
      "cell_type": "code",
      "metadata": {
        "colab": {
          "base_uri": "https://localhost:8080/"
        },
        "id": "ueXuvencTaBR",
        "outputId": "8190ac6f-bd52-4f86-efec-5692ad8021d9"
      },
      "source": [
        "! python3 hello-stdout.py"
      ],
      "execution_count": null,
      "outputs": [
        {
          "output_type": "stream",
          "text": [
            "HELLO, STDOUT!"
          ],
          "name": "stdout"
        }
      ]
    },
    {
      "cell_type": "markdown",
      "metadata": {
        "id": "Lksbl1-WTaBS"
      },
      "source": [
        "Вместо стандартных потоков ввода\\вывода можно подставлять произвольные источники данных.\n",
        "\n",
        "**Оператор >** позволяет перенаправлять стандартный вывод в любой другой файл. Попробуем, например, написать что-то в новый файл используя команду echo."
      ]
    },
    {
      "cell_type": "code",
      "metadata": {
        "colab": {
          "base_uri": "https://localhost:8080/"
        },
        "id": "-mXEdXw84sHU",
        "outputId": "d1875f0d-c1e0-43e2-e590-ea9446eefacb"
      },
      "source": [
        "! echo \"jdhujhdjkfhsdkf\""
      ],
      "execution_count": null,
      "outputs": [
        {
          "output_type": "stream",
          "text": [
            "jdhujhdjkfhsdkf\n"
          ],
          "name": "stdout"
        }
      ]
    },
    {
      "cell_type": "code",
      "metadata": {
        "colab": {
          "base_uri": "https://localhost:8080/"
        },
        "id": "rSdqFO9b4iTX",
        "outputId": "d5d9c43e-7df2-4054-b242-5a55174aeb67"
      },
      "source": [
        "! echo \"message from echo\""
      ],
      "execution_count": null,
      "outputs": [
        {
          "output_type": "stream",
          "text": [
            "message from echo\n"
          ],
          "name": "stdout"
        }
      ]
    },
    {
      "cell_type": "code",
      "metadata": {
        "id": "jd8OyDRCTaBS"
      },
      "source": [
        "! echo \"message from echo\" > file.txt"
      ],
      "execution_count": null,
      "outputs": []
    },
    {
      "cell_type": "code",
      "metadata": {
        "colab": {
          "base_uri": "https://localhost:8080/"
        },
        "id": "zajOCn0XTaBS",
        "outputId": "233b6299-2d1a-415f-d3e1-04fd272ed096"
      },
      "source": [
        "! cat file.txt"
      ],
      "execution_count": null,
      "outputs": [
        {
          "output_type": "stream",
          "text": [
            "message from echo\n"
          ],
          "name": "stdout"
        }
      ]
    },
    {
      "cell_type": "code",
      "metadata": {
        "colab": {
          "base_uri": "https://localhost:8080/"
        },
        "id": "528WGMhLTaBT",
        "outputId": "ceeda2ed-74fa-480b-beff-848f29dff223"
      },
      "source": [
        "! cat file.txt file.txt # Читает файл два раза"
      ],
      "execution_count": null,
      "outputs": [
        {
          "output_type": "stream",
          "text": [
            "message from echo\n",
            "message from echo\n"
          ],
          "name": "stdout"
        }
      ]
    },
    {
      "cell_type": "code",
      "metadata": {
        "id": "nTX51mstTaBT"
      },
      "source": [
        "! cat file.txt file.txt > doubled-file.txt"
      ],
      "execution_count": null,
      "outputs": []
    },
    {
      "cell_type": "code",
      "metadata": {
        "colab": {
          "base_uri": "https://localhost:8080/"
        },
        "id": "HmvlVJuPTaBT",
        "outputId": "0bc7b41a-e1b8-4417-f9a9-11abb7ed499d"
      },
      "source": [
        "! cat doubled-file.txt"
      ],
      "execution_count": null,
      "outputs": [
        {
          "output_type": "stream",
          "text": [
            "message from echo\n",
            "message from echo\n"
          ],
          "name": "stdout"
        }
      ]
    },
    {
      "cell_type": "markdown",
      "metadata": {
        "id": "XJabgsYSTaBT"
      },
      "source": [
        "Если файл уже существует, то этот оператор полностью перезатрет его содержимое"
      ]
    },
    {
      "cell_type": "code",
      "metadata": {
        "id": "zXnRyNhmTaBT"
      },
      "source": [
        "! echo \"new message\" > doubled-file.txt"
      ],
      "execution_count": null,
      "outputs": []
    },
    {
      "cell_type": "code",
      "metadata": {
        "colab": {
          "base_uri": "https://localhost:8080/"
        },
        "id": "bh0HHnH5TaBU",
        "outputId": "e34d1d95-27e3-44be-e59f-98e243c1d92d"
      },
      "source": [
        "! cat doubled-file.txt"
      ],
      "execution_count": null,
      "outputs": [
        {
          "output_type": "stream",
          "text": [
            "new message\n"
          ],
          "name": "stdout"
        }
      ]
    },
    {
      "cell_type": "markdown",
      "metadata": {
        "id": "VLroGSKTTaBU"
      },
      "source": [
        "**Оператор >>** позволяет не перезаписывать целиком файл, а лишь добавить в конец новые данные"
      ]
    },
    {
      "cell_type": "code",
      "metadata": {
        "id": "fLb6SRBgTaBU"
      },
      "source": [
        "! cat file.txt file.txt > doubled-file.txt"
      ],
      "execution_count": null,
      "outputs": []
    },
    {
      "cell_type": "code",
      "metadata": {
        "colab": {
          "base_uri": "https://localhost:8080/"
        },
        "id": "obtMypkXTaBU",
        "outputId": "699b136f-3a47-42cb-b75e-faf9d14b72fe"
      },
      "source": [
        "! cat doubled-file.txt"
      ],
      "execution_count": null,
      "outputs": [
        {
          "output_type": "stream",
          "text": [
            "message from echo\n",
            "message from echo\n"
          ],
          "name": "stdout"
        }
      ]
    },
    {
      "cell_type": "code",
      "metadata": {
        "id": "JuwPuJQFTaBU"
      },
      "source": [
        "! echo \"new message\" >> doubled-file"
      ],
      "execution_count": null,
      "outputs": []
    },
    {
      "cell_type": "code",
      "metadata": {
        "colab": {
          "base_uri": "https://localhost:8080/"
        },
        "id": "najI1Ju3TaBV",
        "outputId": "bc6dd509-1c27-4f5a-af0e-417ca3d51bd5"
      },
      "source": [
        "! cat doubled-file"
      ],
      "execution_count": null,
      "outputs": [
        {
          "output_type": "stream",
          "text": [
            "new message\n"
          ],
          "name": "stdout"
        }
      ]
    },
    {
      "cell_type": "code",
      "metadata": {
        "id": "Xtc659lA5YqX"
      },
      "source": [],
      "execution_count": null,
      "outputs": []
    },
    {
      "cell_type": "markdown",
      "metadata": {
        "id": "JKLq1TESTaBV"
      },
      "source": [
        "Помимо вывода программы, можно поменять и ее ввод.\n",
        "\n",
        "**Оператор <** позволяет поменить стандартный ввод программы на другой файл, делая вид для программы, будто бы пользователь ввел эти данные с клавиатуры.\n",
        "\n",
        "Напишем простенькую программу, которая читает пользовательский ввод с клавиатуры и потестируем этот оператор."
      ]
    },
    {
      "cell_type": "code",
      "metadata": {
        "colab": {
          "base_uri": "https://localhost:8080/"
        },
        "id": "PvXmBr_LTaBV",
        "outputId": "26c05a63-852c-4f34-cf90-07f40b2b6568"
      },
      "source": [
        "%%writefile repeat.py\n",
        "\n",
        "data = input()\n",
        "for i in range(3):\n",
        "    print(data)"
      ],
      "execution_count": null,
      "outputs": [
        {
          "output_type": "stream",
          "text": [
            "Writing repeat.py\n"
          ],
          "name": "stdout"
        }
      ]
    },
    {
      "cell_type": "code",
      "metadata": {
        "colab": {
          "base_uri": "https://localhost:8080/"
        },
        "id": "94ZpEc5-TaBV",
        "outputId": "4f26941c-4bf9-49c2-c567-8ec4436d5fa2"
      },
      "source": [
        "! cat file.txt"
      ],
      "execution_count": null,
      "outputs": [
        {
          "output_type": "stream",
          "text": [
            "message from echo\n"
          ],
          "name": "stdout"
        }
      ]
    },
    {
      "cell_type": "code",
      "metadata": {
        "colab": {
          "base_uri": "https://localhost:8080/"
        },
        "id": "dkUpJkMfTaBV",
        "outputId": "ce9e269b-2ff4-4121-d1f1-8f128c6ccf3d"
      },
      "source": [
        "! python3 repeat.py < file.txt"
      ],
      "execution_count": null,
      "outputs": [
        {
          "output_type": "stream",
          "text": [
            "message from echo\n",
            "message from echo\n",
            "message from echo\n"
          ],
          "name": "stdout"
        }
      ]
    },
    {
      "cell_type": "code",
      "metadata": {
        "colab": {
          "base_uri": "https://localhost:8080/"
        },
        "id": "0BGjrAaJTaBW",
        "outputId": "6b0be017-b56d-4b52-b60a-9d367fa11d78"
      },
      "source": [
        "! python3 -c \"import sys; print(list(sys.stdin))\" < doubled-file.txt"
      ],
      "execution_count": null,
      "outputs": [
        {
          "output_type": "stream",
          "text": [
            "['message from echo\\n', 'message from echo\\n', 'new message\\n']\n"
          ],
          "name": "stdout"
        }
      ]
    },
    {
      "cell_type": "markdown",
      "metadata": {
        "id": "RouD8mvRTaBW"
      },
      "source": [
        "Если хочется направить на stdin несколько строк, но при этом не из файла, а прямо из скрипта, то можно воспользваться **оператором <<**. Для него нужно отдельно указать маркер начала и конца данных."
      ]
    },
    {
      "cell_type": "code",
      "metadata": {
        "colab": {
          "base_uri": "https://localhost:8080/"
        },
        "id": "E5Qq9U8lTaBW",
        "outputId": "5cb7674b-d57a-4ff2-fa35-d67e55df9b74"
      },
      "source": [
        "%%bash\n",
        "\n",
        "python3 -c \"import sys; print(list(sys.stdin))\" <<END\n",
        "big\n",
        "multiline\n",
        "message\n",
        "from\n",
        "script\n",
        "END"
      ],
      "execution_count": null,
      "outputs": [
        {
          "output_type": "stream",
          "text": [
            "['big\\n', 'multiline\\n', 'message\\n', 'from\\n', 'script\\n']\n"
          ],
          "name": "stdout"
        }
      ]
    },
    {
      "cell_type": "markdown",
      "metadata": {
        "id": "2R6OwX3sTaBW"
      },
      "source": [
        "Если хочется направить ровно одну строку, то можно воспользоваться **оператором <<<**. Он подаст на stdin ту строку, которую мы передадим в качестве аргумента."
      ]
    },
    {
      "cell_type": "code",
      "metadata": {
        "colab": {
          "base_uri": "https://localhost:8080/"
        },
        "id": "ZXitr6ESTaBW",
        "outputId": "94b6a514-48b4-4768-dfc2-b488bb7ef90c"
      },
      "source": [
        "%%bash\n",
        "\n",
        "python3 -c \"import sys; print(list(sys.stdin))\" <<< \"one line message from script\""
      ],
      "execution_count": null,
      "outputs": [
        {
          "output_type": "stream",
          "text": [
            "['one line \\\\n message from script\\n']\n"
          ],
          "name": "stdout"
        }
      ]
    },
    {
      "cell_type": "markdown",
      "metadata": {
        "id": "GJ0D8O5vTaBW"
      },
      "source": [
        "Комбинирование этих возможностей может позволить решить некоторые задачи. Например генерировать какой-то файл на лету."
      ]
    },
    {
      "cell_type": "code",
      "metadata": {
        "id": "HjEeQ2PtTaBX",
        "colab": {
          "base_uri": "https://localhost:8080/"
        },
        "outputId": "5ec79e43-9fb8-4e76-a92c-3d472d410065"
      },
      "source": [
        "%%bash\n",
        "\n",
        "cat > message.txt <<MSG\n",
        "This file was created directly from script\n",
        "Using amazing features of Bash\n",
        "MSG "
      ],
      "execution_count": null,
      "outputs": [
        {
          "output_type": "stream",
          "text": [
            "bash: line 5: warning: here-document at line 2 delimited by end-of-file (wanted `MSG')\n"
          ],
          "name": "stderr"
        }
      ]
    },
    {
      "cell_type": "code",
      "metadata": {
        "colab": {
          "base_uri": "https://localhost:8080/"
        },
        "id": "dMkQyH5cTaBX",
        "outputId": "acce5148-fb09-4ed8-9b98-e06ca20b97dd"
      },
      "source": [
        "! cat message.txt"
      ],
      "execution_count": null,
      "outputs": [
        {
          "output_type": "stream",
          "text": [
            "This file was created directly from script\n",
            "Using amazing features of Bash\n",
            "MSG \n"
          ],
          "name": "stdout"
        }
      ]
    },
    {
      "cell_type": "markdown",
      "metadata": {
        "id": "5OBmoyDuTaBX"
      },
      "source": [
        "Или например решать проблему с интерактивными программами, которые хотят какого-то действия от пользователя."
      ]
    },
    {
      "cell_type": "code",
      "metadata": {
        "colab": {
          "base_uri": "https://localhost:8080/"
        },
        "id": "t2DmiullTaBX",
        "outputId": "dbed2f81-a8bd-4d12-e212-07a08d9815c4"
      },
      "source": [
        "%%writefile interactive.py\n",
        "\n",
        "answer = input(\"Are you sure you want to do X? (y/n)\")\n",
        "if answer == 'y':\n",
        "    print(\"DOING X\")\n",
        "else:\n",
        "    print(\"Canceling\")"
      ],
      "execution_count": null,
      "outputs": [
        {
          "output_type": "stream",
          "text": [
            "Writing interactive.py\n"
          ],
          "name": "stdout"
        }
      ]
    },
    {
      "cell_type": "code",
      "metadata": {
        "colab": {
          "base_uri": "https://localhost:8080/"
        },
        "id": "MXJLo27JTaBX",
        "outputId": "3d742a13-7000-494d-87de-9328b54712f3"
      },
      "source": [
        "! python3 interactive.py <<< \"y\""
      ],
      "execution_count": null,
      "outputs": [
        {
          "output_type": "stream",
          "text": [
            "Are you sure you want to do X? (y/n)DOING X\n"
          ],
          "name": "stdout"
        }
      ]
    },
    {
      "cell_type": "code",
      "metadata": {
        "colab": {
          "base_uri": "https://localhost:8080/"
        },
        "id": "w6MUDYyrTaBX",
        "outputId": "f40cf56f-1449-4c0b-a37e-856bd66b7472"
      },
      "source": [
        "! python3 interactive.py <<< \"n\""
      ],
      "execution_count": null,
      "outputs": [
        {
          "output_type": "stream",
          "text": [
            "Are you sure you want to do X? (y/n)Canceling\n"
          ],
          "name": "stdout"
        }
      ]
    },
    {
      "cell_type": "markdown",
      "metadata": {
        "id": "N9JAXq5OTaBY"
      },
      "source": [
        "Возможности перенаправлений не ограничиваются только статическими текстовыми файлами. \n",
        "\n",
        "**Оператор <()** позворяет представить вывод программы как специальный файл (чаще всего он выглядит как `/dev/fd/63`) . Основная особенность этого оператора от обычного **оператора >** в том, что не используется дополнительное место на диске. Читая из этого специального файла мы напрямую получаем доступ к выводу программы без необходимости сохранять его на диске в явном виде.\n",
        "\n",
        "Сам оператор при применении запускает переданную программу, создает специальный файл и возращает путь до этого файла.\n",
        "\n",
        "Этим можно воспользоваться, чтобы компоновать работу нескольких программ."
      ]
    },
    {
      "cell_type": "code",
      "metadata": {
        "colab": {
          "base_uri": "https://localhost:8080/"
        },
        "id": "xC4TYRMtTaBY",
        "outputId": "fcc5f223-54ca-4f71-de18-3a3bca127863"
      },
      "source": [
        "! echo <(echo PIPA)  # Напечатали путь до файла, в коротый подключен вывод программы echo PIPA"
      ],
      "execution_count": null,
      "outputs": [
        {
          "output_type": "stream",
          "text": [
            "/dev/fd/63\n"
          ],
          "name": "stdout"
        }
      ]
    },
    {
      "cell_type": "code",
      "metadata": {
        "colab": {
          "base_uri": "https://localhost:8080/"
        },
        "id": "Sx5rf4hSTaBY",
        "outputId": "91e28085-b7e8-4e11-abb4-9df306d6b3fa"
      },
      "source": [
        "! cat <(echo PIPA)"
      ],
      "execution_count": null,
      "outputs": [
        {
          "output_type": "stream",
          "text": [
            "PIPA\n"
          ],
          "name": "stdout"
        }
      ]
    },
    {
      "cell_type": "code",
      "metadata": {
        "colab": {
          "base_uri": "https://localhost:8080/"
        },
        "id": "vCSj_ePMTaBY",
        "outputId": "07f6b01a-e4df-4def-ed47-7f35348dc85a"
      },
      "source": [
        "%%writefile read-file.py\n",
        "\n",
        "import sys\n",
        "\n",
        "print(\"Path to file = {}\".format(sys.argv[1]))\n",
        "\n",
        "with open(sys.argv[1], 'r') as f:\n",
        "    content = f.read()\n",
        "    print(content)"
      ],
      "execution_count": null,
      "outputs": [
        {
          "output_type": "stream",
          "text": [
            "Writing read-file.py\n"
          ],
          "name": "stdout"
        }
      ]
    },
    {
      "cell_type": "code",
      "metadata": {
        "colab": {
          "base_uri": "https://localhost:8080/"
        },
        "id": "e6Bk2K_3TaBY",
        "outputId": "8368eeab-6207-463b-d65c-e0f09d6465b6"
      },
      "source": [
        "! cat file.txt"
      ],
      "execution_count": null,
      "outputs": [
        {
          "output_type": "stream",
          "text": [
            "message from echo\n"
          ],
          "name": "stdout"
        }
      ]
    },
    {
      "cell_type": "code",
      "metadata": {
        "colab": {
          "base_uri": "https://localhost:8080/"
        },
        "id": "Wc_6SUi8TaBZ",
        "outputId": "c4f3fe9b-12ee-45c0-b715-35f9328dd27f"
      },
      "source": [
        "! python3 read-file.py file.txt"
      ],
      "execution_count": null,
      "outputs": [
        {
          "output_type": "stream",
          "text": [
            "Path to file = file.txt\n",
            "message from echo\n",
            "\n"
          ],
          "name": "stdout"
        }
      ]
    },
    {
      "cell_type": "code",
      "metadata": {
        "colab": {
          "base_uri": "https://localhost:8080/"
        },
        "id": "IyzkME0RTaBZ",
        "outputId": "8b98c9e0-802d-494d-cba0-34f3a350a1fe"
      },
      "source": [
        "! python3 read-file.py <(echo PIPA)"
      ],
      "execution_count": null,
      "outputs": [
        {
          "output_type": "stream",
          "text": [
            "Path to file = /dev/fd/63\n",
            "PIPA\n",
            "\n"
          ],
          "name": "stdout"
        }
      ]
    },
    {
      "cell_type": "markdown",
      "metadata": {
        "id": "hA_nDXZkTaBZ"
      },
      "source": [
        "Комбинируя возможности операторов **<** и **<()** можно перенаправлять вывод одной команды в другой.\n",
        "\n",
        "Наглядный пример - команда `yes`. Она решает уже рассмотренную проблему работы с интерактивными программами, без конца печатая символ `y` на стандартный вывод. \n",
        "\n",
        "(Интересный факт - люди любят соревноваться в \"производительности\" программы `yes`. Согласно [треду на Реддите](https://www.reddit.com/r/unix/comments/6gxduc/how_is_gnu_yes_so_fast/), рекорд - вывод `y` со скоростью 123 Гигабита в секунду. Зачем нужная такая производительность в команде `yes`? Ну чтобы было смешно.)"
      ]
    },
    {
      "cell_type": "code",
      "metadata": {
        "colab": {
          "base_uri": "https://localhost:8080/"
        },
        "id": "ZSrbDph5TaBZ",
        "outputId": "f94f7f6d-972d-43fe-e25b-9c1d8b2207a1"
      },
      "source": [
        "! python3 interactive.py < <(yes)"
      ],
      "execution_count": null,
      "outputs": [
        {
          "output_type": "stream",
          "text": [
            "Are you sure you want to do X? (y/n)DOING X\n"
          ],
          "name": "stdout"
        }
      ]
    },
    {
      "cell_type": "markdown",
      "metadata": {
        "id": "FPlJPOVeTaBa"
      },
      "source": [
        "Другой полезный пример - сравнение двух каталогов. Сущестует программа `diff`, которая получает два файла и выводит построчные различия в этий файлах. Можно скомбинировать ее с командой `ls`, чтобы научиться сравнивать директории."
      ]
    },
    {
      "cell_type": "code",
      "metadata": {
        "id": "7PzbFOYATaBa"
      },
      "source": [
        "! mkdir -p folder1\n",
        "! touch folder1/file1.txt folder1/file2.txt folder1/file3.txt\n",
        "\n",
        "! mkdir -p folder2\n",
        "! touch folder2/file2.txt folder2/file3.txt folder2/file4.txt"
      ],
      "execution_count": null,
      "outputs": []
    },
    {
      "cell_type": "code",
      "metadata": {
        "colab": {
          "base_uri": "https://localhost:8080/"
        },
        "id": "sxLuioJXTaBa",
        "outputId": "97f2f7d1-7ffd-48d5-c926-7de409940d69"
      },
      "source": [
        "! ls folder1"
      ],
      "execution_count": null,
      "outputs": [
        {
          "output_type": "stream",
          "text": [
            "file1.txt  file2.txt  file3.txt\n"
          ],
          "name": "stdout"
        }
      ]
    },
    {
      "cell_type": "code",
      "metadata": {
        "colab": {
          "base_uri": "https://localhost:8080/"
        },
        "id": "5bHaOioYTaBa",
        "outputId": "a96b49a7-d3ef-4e75-a538-8780f93e536f"
      },
      "source": [
        "! ls folder2"
      ],
      "execution_count": null,
      "outputs": [
        {
          "output_type": "stream",
          "text": [
            "file2.txt  file3.txt  file4.txt\n"
          ],
          "name": "stdout"
        }
      ]
    },
    {
      "cell_type": "code",
      "metadata": {
        "colab": {
          "base_uri": "https://localhost:8080/"
        },
        "id": "FJfLuYl2TaBa",
        "outputId": "c61d3cd5-db72-484a-8faf-80cf9f02b234"
      },
      "source": [
        "! diff <(ls folder1) <(ls folder2)"
      ],
      "execution_count": null,
      "outputs": [
        {
          "output_type": "stream",
          "text": [
            "1d0\n",
            "< file1.txt\n",
            "3a3\n",
            "> file4.txt\n"
          ],
          "name": "stdout"
        }
      ]
    },
    {
      "cell_type": "markdown",
      "metadata": {
        "id": "7B5Z1XJ3TaBa"
      },
      "source": [
        "Идея соединять процессы через stdin\\stdout очень популярна и для этого есть более удобный интерфейс - pipes или **оператор |**\n",
        "\n",
        "Все команды, соединенные через | запускаются одновременно и общаются друг с другом через stdin\\stdout"
      ]
    },
    {
      "cell_type": "code",
      "metadata": {
        "colab": {
          "base_uri": "https://localhost:8080/"
        },
        "id": "q58wSeIVTaBb",
        "outputId": "e57303e6-0747-4ea5-b257-a805b9ff703e"
      },
      "source": [
        "! echo hello | cat"
      ],
      "execution_count": null,
      "outputs": [
        {
          "output_type": "stream",
          "text": [
            "hello\n"
          ],
          "name": "stdout"
        }
      ]
    },
    {
      "cell_type": "code",
      "metadata": {
        "colab": {
          "base_uri": "https://localhost:8080/"
        },
        "id": "MKj_D_djTaBb",
        "outputId": "7a82cb26-1bee-429f-c8f2-ae2831beb0be"
      },
      "source": [
        "! echo hi | wc -l  # wc считает сколько строк в входных данных"
      ],
      "execution_count": null,
      "outputs": [
        {
          "output_type": "stream",
          "text": [
            "1\n"
          ],
          "name": "stdout"
        }
      ]
    },
    {
      "cell_type": "code",
      "metadata": {
        "colab": {
          "base_uri": "https://localhost:8080/"
        },
        "id": "n6xIysL1_imm",
        "outputId": "81810166-107a-40cb-eb85-031bffd7e97d"
      },
      "source": [
        "! cat doubled-file.txt"
      ],
      "execution_count": null,
      "outputs": [
        {
          "output_type": "stream",
          "text": [
            "message from echo\n",
            "message from echo\n",
            "new message\n"
          ],
          "name": "stdout"
        }
      ]
    },
    {
      "cell_type": "code",
      "metadata": {
        "colab": {
          "base_uri": "https://localhost:8080/"
        },
        "id": "EYnTBlKlTaBb",
        "outputId": "e8be551c-e90a-43a7-960c-a09e6543a96c"
      },
      "source": [
        "! cat doubled-file.txt | wc -l"
      ],
      "execution_count": null,
      "outputs": [
        {
          "output_type": "stream",
          "text": [
            "3\n"
          ],
          "name": "stdout"
        }
      ]
    },
    {
      "cell_type": "code",
      "metadata": {
        "colab": {
          "base_uri": "https://localhost:8080/"
        },
        "id": "VC7E3-8RTaBb",
        "outputId": "82082e30-f4f5-46ae-c457-1378aea9f072"
      },
      "source": [
        "! ls -l | wc -l"
      ],
      "execution_count": null,
      "outputs": [
        {
          "output_type": "stream",
          "text": [
            "17\n"
          ],
          "name": "stdout"
        }
      ]
    },
    {
      "cell_type": "code",
      "metadata": {
        "colab": {
          "base_uri": "https://localhost:8080/"
        },
        "id": "RUBRjb3kTaBb",
        "outputId": "45b28270-9e8e-43f5-d87a-d43ee399fec8"
      },
      "source": [
        "! ls -l | cat | wc -l | python3 -c \"print(int(input()) * 2)\""
      ],
      "execution_count": null,
      "outputs": [
        {
          "output_type": "stream",
          "text": [
            "34\n"
          ],
          "name": "stdout"
        }
      ]
    },
    {
      "cell_type": "code",
      "metadata": {
        "colab": {
          "base_uri": "https://localhost:8080/"
        },
        "id": "4Ni7QKvhTaBb",
        "outputId": "3a3cba10-9ede-4325-b144-c09c1302bc67"
      },
      "source": [
        "! yes | python3 interactive.py"
      ],
      "execution_count": null,
      "outputs": [
        {
          "output_type": "stream",
          "text": [
            "Are you sure you want to do X? (y/n)DOING X\n"
          ],
          "name": "stdout"
        }
      ]
    },
    {
      "cell_type": "code",
      "metadata": {
        "colab": {
          "base_uri": "https://localhost:8080/"
        },
        "id": "fjC4c3IqTaBc",
        "outputId": "a1c7be16-c62e-4871-c239-d7aabcddee59"
      },
      "source": [
        "! yes | head  # Смотрим первые 10 строк файла"
      ],
      "execution_count": null,
      "outputs": [
        {
          "output_type": "stream",
          "text": [
            "y\n",
            "y\n",
            "y\n",
            "y\n",
            "y\n",
            "y\n",
            "y\n",
            "y\n",
            "y\n",
            "y\n"
          ],
          "name": "stdout"
        }
      ]
    },
    {
      "cell_type": "markdown",
      "metadata": {
        "id": "phMwaucQTaBc"
      },
      "source": [
        "Существует также родственный оператор **$()**. Он также запускает переданную программу, однако перенаправляет вывод не в файл, а прямо в bash. То есть вывод программы можно использовать как строку внутри скрипта."
      ]
    },
    {
      "cell_type": "code",
      "metadata": {
        "colab": {
          "base_uri": "https://localhost:8080/"
        },
        "id": "h_lYMC_HAV5l",
        "outputId": "e8b7a5bf-d9fe-42f8-faa5-0cd72a184964"
      },
      "source": [
        "! pwd"
      ],
      "execution_count": null,
      "outputs": [
        {
          "output_type": "stream",
          "text": [
            "/content\n"
          ],
          "name": "stdout"
        }
      ]
    },
    {
      "cell_type": "code",
      "metadata": {
        "colab": {
          "base_uri": "https://localhost:8080/"
        },
        "id": "lqK1Feo9TaBc",
        "outputId": "cd675b4f-f833-417a-d491-bce4c575b946"
      },
      "source": [
        "! echo I am here - $(pwd)"
      ],
      "execution_count": null,
      "outputs": [
        {
          "output_type": "stream",
          "text": [
            "I am here - /content\n"
          ],
          "name": "stdout"
        }
      ]
    },
    {
      "cell_type": "code",
      "metadata": {
        "colab": {
          "base_uri": "https://localhost:8080/"
        },
        "id": "Y-ER5o_QTaBc",
        "outputId": "8644507b-d0bf-4930-838c-54a1481cd522"
      },
      "source": [
        "%%writefile file-to-read.txt\n",
        "/etc/hosts"
      ],
      "execution_count": null,
      "outputs": [
        {
          "output_type": "stream",
          "text": [
            "Writing file-to-read.txt\n"
          ],
          "name": "stdout"
        }
      ]
    },
    {
      "cell_type": "code",
      "metadata": {
        "colab": {
          "base_uri": "https://localhost:8080/"
        },
        "id": "9yd--YiuTaBc",
        "outputId": "86fc3480-b894-4554-83a8-9adb8b5b05f3"
      },
      "source": [
        "! cat $(cat file-to-read.txt) # cat /etc/hosts"
      ],
      "execution_count": null,
      "outputs": [
        {
          "output_type": "stream",
          "text": [
            "127.0.0.1\tlocalhost\n",
            "::1\tlocalhost ip6-localhost ip6-loopback\n",
            "fe00::0\tip6-localnet\n",
            "ff00::0\tip6-mcastprefix\n",
            "ff02::1\tip6-allnodes\n",
            "ff02::2\tip6-allrouters\n",
            "172.28.0.2\t0b0103324ace\n"
          ],
          "name": "stdout"
        }
      ]
    },
    {
      "cell_type": "code",
      "metadata": {
        "id": "ElX0U5fCTaBc"
      },
      "source": [],
      "execution_count": null,
      "outputs": []
    },
    {
      "cell_type": "markdown",
      "metadata": {
        "id": "rdvx8aueTaBc"
      },
      "source": [
        "# Полезные программы\n",
        "\n",
        "Bash - всего лишь оболочка и не умеет самостоятельно решать какие-то задачи. Основную работу выполняют установленные программы, которые можно вызывать из bash. Их можно использовать гораздо эффективнее, используя их вместе с возможностями оболочки."
      ]
    },
    {
      "cell_type": "markdown",
      "metadata": {
        "id": "LDa-3vunTaBd"
      },
      "source": [
        "### Head\n",
        "head читает определенное количество данных с начала файла. Это полезно, например, когда хочется посмотреть на часть данных, которая лежит на диске."
      ]
    },
    {
      "cell_type": "code",
      "metadata": {
        "colab": {
          "base_uri": "https://localhost:8080/"
        },
        "id": "W6grm1ZmTaBd",
        "outputId": "3e540a97-94bf-491f-b155-b757697b1791"
      },
      "source": [
        "! head /etc/hosts"
      ],
      "execution_count": null,
      "outputs": [
        {
          "output_type": "stream",
          "text": [
            "127.0.0.1\tlocalhost\n",
            "::1\tlocalhost ip6-localhost ip6-loopback\n",
            "fe00::0\tip6-localnet\n",
            "ff00::0\tip6-mcastprefix\n",
            "ff02::1\tip6-allnodes\n",
            "ff02::2\tip6-allrouters\n",
            "172.28.0.2\t0b0103324ace\n"
          ],
          "name": "stdout"
        }
      ]
    },
    {
      "cell_type": "code",
      "metadata": {
        "colab": {
          "base_uri": "https://localhost:8080/"
        },
        "id": "IFuPMvfMTaBd",
        "outputId": "0e8448f0-3200-489a-c33c-c2eeb81b6909"
      },
      "source": [
        "! head -n 2 /etc/hosts  # Читаем только первые 2 строки"
      ],
      "execution_count": null,
      "outputs": [
        {
          "output_type": "stream",
          "text": [
            "127.0.0.1\tlocalhost\n",
            "::1\tlocalhost ip6-localhost ip6-loopback\n"
          ],
          "name": "stdout"
        }
      ]
    },
    {
      "cell_type": "code",
      "metadata": {
        "colab": {
          "base_uri": "https://localhost:8080/"
        },
        "id": "JFPOj7X6TaBd",
        "outputId": "e511064f-0155-4b2d-be51-04f7feed0949"
      },
      "source": [
        "! head -c 10 /etc/hosts  # Читаем только первые 10 байт"
      ],
      "execution_count": null,
      "outputs": [
        {
          "output_type": "stream",
          "text": [
            "127.0.0.1\t"
          ],
          "name": "stdout"
        }
      ]
    },
    {
      "cell_type": "code",
      "metadata": {
        "colab": {
          "base_uri": "https://localhost:8080/"
        },
        "id": "SSAuFOmTTaBd",
        "outputId": "d5c441e1-37e2-42a8-a0c2-6fbdc0ed3c91"
      },
      "source": [
        "! cat /etc/hosts | head -n 2  # Как и почти все программы, которые мы рассмотрим, умеет работать с вводом"
      ],
      "execution_count": null,
      "outputs": [
        {
          "output_type": "stream",
          "text": [
            "127.0.0.1\tlocalhost\n",
            "::1\tlocalhost ip6-localhost ip6-loopback\n"
          ],
          "name": "stdout"
        }
      ]
    },
    {
      "cell_type": "code",
      "metadata": {
        "colab": {
          "base_uri": "https://localhost:8080/"
        },
        "id": "pa3L5xikB5UB",
        "outputId": "ca535305-01db-4159-9e22-69ae7b5191da"
      },
      "source": [
        "! head -n -2 /etc/hosts"
      ],
      "execution_count": null,
      "outputs": [
        {
          "output_type": "stream",
          "text": [
            "127.0.0.1\tlocalhost\n",
            "::1\tlocalhost ip6-localhost ip6-loopback\n",
            "fe00::0\tip6-localnet\n",
            "ff00::0\tip6-mcastprefix\n",
            "ff02::1\tip6-allnodes\n"
          ],
          "name": "stdout"
        }
      ]
    },
    {
      "cell_type": "markdown",
      "metadata": {
        "id": "FI__OQGUTaBd"
      },
      "source": [
        "### Tail\n",
        "tail делает то же самое, что и head, но с конца файла"
      ]
    },
    {
      "cell_type": "code",
      "metadata": {
        "colab": {
          "base_uri": "https://localhost:8080/"
        },
        "id": "oJ5zrCUTTaBd",
        "outputId": "69239b42-9353-4d51-c680-745fc92cd31c"
      },
      "source": [
        "! tail /etc/hosts"
      ],
      "execution_count": null,
      "outputs": [
        {
          "output_type": "stream",
          "text": [
            "127.0.0.1\tlocalhost\n",
            "::1\tlocalhost ip6-localhost ip6-loopback\n",
            "fe00::0\tip6-localnet\n",
            "ff00::0\tip6-mcastprefix\n",
            "ff02::1\tip6-allnodes\n",
            "ff02::2\tip6-allrouters\n",
            "172.28.0.2\t0b0103324ace\n"
          ],
          "name": "stdout"
        }
      ]
    },
    {
      "cell_type": "code",
      "metadata": {
        "colab": {
          "base_uri": "https://localhost:8080/"
        },
        "id": "BQ18FdNKTaBe",
        "outputId": "8d6adefb-d602-4fa2-b4c6-06446b3616ae"
      },
      "source": [
        "! tail -n 2 /etc/hosts"
      ],
      "execution_count": null,
      "outputs": [
        {
          "output_type": "stream",
          "text": [
            "ff02::2\tip6-allrouters\n",
            "172.28.0.2\t0b0103324ace\n"
          ],
          "name": "stdout"
        }
      ]
    },
    {
      "cell_type": "code",
      "metadata": {
        "colab": {
          "base_uri": "https://localhost:8080/"
        },
        "id": "839SJQmLTaBe",
        "outputId": "f5850fd4-11d5-47b4-ab86-aea9c0a88b19"
      },
      "source": [
        "! tail -n +2 /etc/hosts  # все строки после второй строки (включая вторую строку)"
      ],
      "execution_count": null,
      "outputs": [
        {
          "output_type": "stream",
          "text": [
            "::1\tlocalhost ip6-localhost ip6-loopback\n",
            "fe00::0\tip6-localnet\n",
            "ff00::0\tip6-mcastprefix\n",
            "ff02::1\tip6-allnodes\n",
            "ff02::2\tip6-allrouters\n",
            "172.28.0.2\t0b0103324ace\n"
          ],
          "name": "stdout"
        }
      ]
    },
    {
      "cell_type": "code",
      "metadata": {
        "colab": {
          "base_uri": "https://localhost:8080/"
        },
        "id": "NVPsFw99TaBe",
        "outputId": "e3c756ba-c2bd-4abc-99ab-d0fad167bbfb"
      },
      "source": [
        "! cat /etc/hosts | tail -n 2"
      ],
      "execution_count": null,
      "outputs": [
        {
          "output_type": "stream",
          "text": [
            "ff02::2\tip6-allrouters\n",
            "172.28.0.2\t0b0103324ace\n"
          ],
          "name": "stdout"
        }
      ]
    },
    {
      "cell_type": "markdown",
      "metadata": {
        "id": "t5hJKI9HTaBe"
      },
      "source": [
        "### Sort\n",
        "sort сортирует входные данные. По умолчанию используется лексикографический порядок, но это поведение можно поменять с использованием специальных опций.\n",
        "\n",
        "Подробнее можно узнать здесь - https://www.opennet.ru/man.shtml?topic=sort&category=1"
      ]
    },
    {
      "cell_type": "code",
      "metadata": {
        "colab": {
          "base_uri": "https://localhost:8080/"
        },
        "id": "9d2AHPGITaBe",
        "outputId": "eef1274d-eebf-4c41-f33a-0948104d685e"
      },
      "source": [
        "%%writefile numbers.txt\n",
        "3\n",
        "5\n",
        "1\n",
        "2\n",
        "6\n",
        "5\n",
        "9\n",
        "4\n",
        "5\n",
        "6\n",
        "7\n",
        "3\n",
        "2\n",
        "10\n",
        "5\n",
        "6"
      ],
      "execution_count": null,
      "outputs": [
        {
          "output_type": "stream",
          "text": [
            "Writing numbers.txt\n"
          ],
          "name": "stdout"
        }
      ]
    },
    {
      "cell_type": "code",
      "metadata": {
        "colab": {
          "base_uri": "https://localhost:8080/"
        },
        "id": "N7jaybibTaBf",
        "outputId": "553daa9f-8655-47f7-9c17-0016fe599b46"
      },
      "source": [
        "! sort numbers.txt  # Сортируем как строки"
      ],
      "execution_count": null,
      "outputs": [
        {
          "output_type": "stream",
          "text": [
            "1\n",
            "10\n",
            "2\n",
            "2\n",
            "3\n",
            "3\n",
            "4\n",
            "5\n",
            "5\n",
            "5\n",
            "5\n",
            "6\n",
            "6\n",
            "6\n",
            "7\n",
            "9\n"
          ],
          "name": "stdout"
        }
      ]
    },
    {
      "cell_type": "code",
      "metadata": {
        "colab": {
          "base_uri": "https://localhost:8080/"
        },
        "id": "BFhAID2QTaBf",
        "outputId": "8968c14c-6050-4162-d225-047bec2a9ed2"
      },
      "source": [
        "! cat numbers.txt | sort"
      ],
      "execution_count": null,
      "outputs": [
        {
          "output_type": "stream",
          "text": [
            "1\n",
            "10\n",
            "2\n",
            "2\n",
            "3\n",
            "3\n",
            "4\n",
            "5\n",
            "5\n",
            "5\n",
            "5\n",
            "6\n",
            "6\n",
            "6\n",
            "7\n",
            "9\n"
          ],
          "name": "stdout"
        }
      ]
    },
    {
      "cell_type": "code",
      "metadata": {
        "colab": {
          "base_uri": "https://localhost:8080/"
        },
        "id": "nGXdIQ9HTaBf",
        "outputId": "737d4577-d97e-48fc-eccb-ad231fc13b56"
      },
      "source": [
        "! cat numbers.txt | sort -n # Сортируем как числа"
      ],
      "execution_count": null,
      "outputs": [
        {
          "output_type": "stream",
          "text": [
            "1\n",
            "2\n",
            "2\n",
            "3\n",
            "3\n",
            "4\n",
            "5\n",
            "5\n",
            "5\n",
            "5\n",
            "6\n",
            "6\n",
            "6\n",
            "7\n",
            "9\n",
            "10\n"
          ],
          "name": "stdout"
        }
      ]
    },
    {
      "cell_type": "markdown",
      "metadata": {
        "id": "KGRJPSOnTaBf"
      },
      "source": [
        "Если в данных есть сразу несколько \"колонок\" (например в каждой строке есть значения, разделенные пробельным символом), то можно отдельно указать, по какому полю необходимо сортировать"
      ]
    },
    {
      "cell_type": "code",
      "metadata": {
        "colab": {
          "base_uri": "https://localhost:8080/"
        },
        "id": "ZUSRD3vWTaBf",
        "outputId": "f7bd9466-915a-4452-b4e4-96995dfd9af2"
      },
      "source": [
        "%%writefile number-table.txt\n",
        "1 10\n",
        "2 9\n",
        "3 8\n",
        "4 7\n",
        "5 6\n",
        "6 5\n",
        "7 4\n",
        "8 3\n",
        "9 2\n",
        "10 1"
      ],
      "execution_count": null,
      "outputs": [
        {
          "output_type": "stream",
          "text": [
            "Writing number-table.txt\n"
          ],
          "name": "stdout"
        }
      ]
    },
    {
      "cell_type": "code",
      "metadata": {
        "colab": {
          "base_uri": "https://localhost:8080/"
        },
        "id": "SwqX3ZmxTaBf",
        "outputId": "f2a23be8-a7c9-4cf5-cba1-f53a98a083b0"
      },
      "source": [
        "! cat number-table.txt | sort -k1,1 -n"
      ],
      "execution_count": null,
      "outputs": [
        {
          "output_type": "stream",
          "text": [
            "1 10\n",
            "2 9\n",
            "3 8\n",
            "4 7\n",
            "5 6\n",
            "6 5\n",
            "7 4\n",
            "8 3\n",
            "9 2\n",
            "10 1\n"
          ],
          "name": "stdout"
        }
      ]
    },
    {
      "cell_type": "code",
      "metadata": {
        "colab": {
          "base_uri": "https://localhost:8080/"
        },
        "id": "YIX6elkbTaBg",
        "outputId": "99a28e99-7809-436b-db97-c9062eda2f63"
      },
      "source": [
        "! cat number-table.txt | sort -k2,2 -n"
      ],
      "execution_count": null,
      "outputs": [
        {
          "output_type": "stream",
          "text": [
            "10 1\n",
            "9 2\n",
            "8 3\n",
            "7 4\n",
            "6 5\n",
            "5 6\n",
            "4 7\n",
            "3 8\n",
            "2 9\n",
            "1 10\n"
          ],
          "name": "stdout"
        }
      ]
    },
    {
      "cell_type": "code",
      "metadata": {
        "colab": {
          "base_uri": "https://localhost:8080/"
        },
        "id": "kAaI9A8zTaBg",
        "outputId": "702d214f-60c7-46c2-d388-c4a1b68def3b"
      },
      "source": [
        "! cat numbers.txt | sort -n -r  # Сортируем в обратном порядке"
      ],
      "execution_count": null,
      "outputs": [
        {
          "output_type": "stream",
          "text": [
            "10\n",
            "9\n",
            "7\n",
            "6\n",
            "6\n",
            "6\n",
            "5\n",
            "5\n",
            "5\n",
            "5\n",
            "4\n",
            "3\n",
            "3\n",
            "2\n",
            "2\n",
            "1\n"
          ],
          "name": "stdout"
        }
      ]
    },
    {
      "cell_type": "markdown",
      "metadata": {
        "id": "7IvkvYIATaBg"
      },
      "source": [
        "### Shuf\n",
        "shuf напротив, случайным образом перемешивает входящие данные"
      ]
    },
    {
      "cell_type": "code",
      "metadata": {
        "colab": {
          "base_uri": "https://localhost:8080/"
        },
        "id": "JK-lRzKfTaBg",
        "outputId": "85ae05e5-ee52-4997-b682-75d361ccff92"
      },
      "source": [
        "! cat numbers.txt | shuf"
      ],
      "execution_count": null,
      "outputs": [
        {
          "output_type": "stream",
          "text": [
            "6\n",
            "10\n",
            "3\n",
            "5\n",
            "1\n",
            "2\n",
            "6\n",
            "5\n",
            "2\n",
            "3\n",
            "5\n",
            "6\n",
            "9\n",
            "5\n",
            "7\n",
            "4\n"
          ],
          "name": "stdout"
        }
      ]
    },
    {
      "cell_type": "code",
      "metadata": {
        "colab": {
          "base_uri": "https://localhost:8080/"
        },
        "id": "95IHtoLUTaBg",
        "outputId": "e6d8cffa-a3a1-4b10-eb4e-12a2ef314dc1"
      },
      "source": [
        "! cat numbers.txt | shuf"
      ],
      "execution_count": null,
      "outputs": [
        {
          "output_type": "stream",
          "text": [
            "5\n",
            "6\n",
            "3\n",
            "10\n",
            "4\n",
            "2\n",
            "1\n",
            "3\n",
            "6\n",
            "9\n",
            "5\n",
            "6\n",
            "2\n",
            "5\n",
            "7\n",
            "5\n"
          ],
          "name": "stdout"
        }
      ]
    },
    {
      "cell_type": "markdown",
      "metadata": {
        "id": "_PYT4U2uTaBg"
      },
      "source": [
        "### Uniq\n",
        "uniq оставляет только уникальные значения. Однако он корректно работает только с отсортированными данными. Для этого мы можем предварительно использовать sort.\n",
        "\n",
        "Помимо операции схлопывания одинаковых значений, uniq также умеет считать простые статистики для схлопнувшихся групп. Этот функционал чем-то напоминает group by. Так, ключ -c считает количество элементов в каждой группе.\n",
        "\n",
        "Подробнее можно узнать здесь - https://www.opennet.ru/man.shtml?topic=uniq&category=1&russian=0"
      ]
    },
    {
      "cell_type": "code",
      "metadata": {
        "colab": {
          "base_uri": "https://localhost:8080/"
        },
        "id": "BHZIEjRUC-P0",
        "outputId": "c24ef68f-0a8f-446f-db11-7b47f75561e2"
      },
      "source": [
        "! cat numbers.txt | sort"
      ],
      "execution_count": null,
      "outputs": [
        {
          "output_type": "stream",
          "text": [
            "1\n",
            "10\n",
            "2\n",
            "2\n",
            "3\n",
            "3\n",
            "4\n",
            "5\n",
            "5\n",
            "5\n",
            "5\n",
            "6\n",
            "6\n",
            "6\n",
            "7\n",
            "9\n"
          ],
          "name": "stdout"
        }
      ]
    },
    {
      "cell_type": "code",
      "metadata": {
        "colab": {
          "base_uri": "https://localhost:8080/"
        },
        "id": "Yz0at8sgTaBh",
        "outputId": "57591d6b-dc3a-4458-b819-e1e1a1a68f4a"
      },
      "source": [
        "! cat numbers.txt | uniq  # Не совсем тот результат, что мы ожидаем"
      ],
      "execution_count": null,
      "outputs": [
        {
          "output_type": "stream",
          "text": [
            "3\n",
            "5\n",
            "1\n",
            "2\n",
            "6\n",
            "5\n",
            "9\n",
            "4\n",
            "5\n",
            "6\n",
            "7\n",
            "3\n",
            "2\n",
            "10\n",
            "5\n",
            "6\n"
          ],
          "name": "stdout"
        }
      ]
    },
    {
      "cell_type": "code",
      "metadata": {
        "colab": {
          "base_uri": "https://localhost:8080/"
        },
        "id": "3K8HBBznTaBh",
        "outputId": "e4b8b7d0-7745-4906-f020-aab31a090643"
      },
      "source": [
        "! cat numbers.txt | sort | uniq  # А вот так уже работает"
      ],
      "execution_count": null,
      "outputs": [
        {
          "output_type": "stream",
          "text": [
            "1\n",
            "10\n",
            "2\n",
            "3\n",
            "4\n",
            "5\n",
            "6\n",
            "7\n",
            "9\n"
          ],
          "name": "stdout"
        }
      ]
    },
    {
      "cell_type": "markdown",
      "metadata": {
        "id": "1iOYcd0ITaBh"
      },
      "source": [
        "По ходу \"схлопывания\" uniq умеет еще и подсчитывать количество схлопнутых элементов. Таким образом можно считать количество каждого элемента."
      ]
    },
    {
      "cell_type": "code",
      "metadata": {
        "colab": {
          "base_uri": "https://localhost:8080/"
        },
        "id": "65fpO_JITaBh",
        "outputId": "a7d27cfb-82f3-4515-d553-171a872f678e"
      },
      "source": [
        "! cat numbers.txt | sort | uniq -c"
      ],
      "execution_count": null,
      "outputs": [
        {
          "output_type": "stream",
          "text": [
            "      1 1\n",
            "      1 10\n",
            "      2 2\n",
            "      2 3\n",
            "      1 4\n",
            "      4 5\n",
            "      3 6\n",
            "      1 7\n",
            "      1 9\n"
          ],
          "name": "stdout"
        }
      ]
    },
    {
      "cell_type": "code",
      "metadata": {
        "colab": {
          "base_uri": "https://localhost:8080/"
        },
        "id": "eQ44jkjZTaBh",
        "outputId": "ecebf608-ec9e-4242-983f-cb5f4c736c9e"
      },
      "source": [
        "%%writefile words.txt\n",
        "Lorem\n",
        "ipsum\n",
        "dolor\n",
        "sit\n",
        "met\n",
        "consectetur\n",
        "incididunt\n",
        "elit\n",
        "seddo\n",
        "ipsum\n",
        "tempor\n",
        "incididunt\n",
        "ut\n",
        "laboret\n",
        "dolor\n",
        "ipsum\n",
        "aliqua\n",
        "ipsum"
      ],
      "execution_count": null,
      "outputs": [
        {
          "output_type": "stream",
          "text": [
            "Writing words.txt\n"
          ],
          "name": "stdout"
        }
      ]
    },
    {
      "cell_type": "code",
      "metadata": {
        "colab": {
          "base_uri": "https://localhost:8080/"
        },
        "id": "WTmc_ESsTaBh",
        "outputId": "f4cd0a01-06ff-4a5b-fb4c-4d621e974a6c"
      },
      "source": [
        "! cat words.txt | sort | uniq -c "
      ],
      "execution_count": null,
      "outputs": [
        {
          "output_type": "stream",
          "text": [
            "      1 aliqua\n",
            "      1 consectetur\n",
            "      2 dolor\n",
            "      1 elit\n",
            "      2 incididunt\n",
            "      4 ipsum\n",
            "      1 laboret\n",
            "      1 Lorem\n",
            "      1 met\n",
            "      1 seddo\n",
            "      1 sit\n",
            "      1 tempor\n",
            "      1 ut\n"
          ],
          "name": "stdout"
        }
      ]
    },
    {
      "cell_type": "markdown",
      "metadata": {
        "id": "MGwxltwcTaBh"
      },
      "source": [
        "### Wc\n",
        "wc (word count) считает количество элементов во входных данных. По умолчанию считает три характеристики - количество строк, количество слов, количество байт. Различные опции позволяют считать какую-то одну из характеристик. Например -l считает количество строк в данных.\n",
        "\n",
        "Подробнее можно узнать здесь - https://www.opennet.ru/man.shtml?topic=wc&category=1&russian=0"
      ]
    },
    {
      "cell_type": "code",
      "metadata": {
        "colab": {
          "base_uri": "https://localhost:8080/"
        },
        "id": "GnZqXPCcTaBi",
        "outputId": "e134a623-f614-4075-ede6-4cbe7efe3c4e"
      },
      "source": [
        "! cat numbers.txt | wc"
      ],
      "execution_count": null,
      "outputs": [
        {
          "output_type": "stream",
          "text": [
            "     15      16      32\n"
          ],
          "name": "stdout"
        }
      ]
    },
    {
      "cell_type": "code",
      "metadata": {
        "colab": {
          "base_uri": "https://localhost:8080/"
        },
        "id": "dCT_412_TaBi",
        "outputId": "cf7e54e1-10e9-4a77-841d-d03ea9e9ea22"
      },
      "source": [
        "! cat number-table.txt | wc"
      ],
      "execution_count": null,
      "outputs": [
        {
          "output_type": "stream",
          "text": [
            "      9      20      41\n"
          ],
          "name": "stdout"
        }
      ]
    },
    {
      "cell_type": "code",
      "metadata": {
        "colab": {
          "base_uri": "https://localhost:8080/"
        },
        "id": "OJuPj1nITaBi",
        "outputId": "0fa7a4f9-ef08-4662-d9b1-6d11856e471d"
      },
      "source": [
        "! cat numbers.txt | wc -l # Количество элементов в файле"
      ],
      "execution_count": null,
      "outputs": [
        {
          "output_type": "stream",
          "text": [
            "15\n"
          ],
          "name": "stdout"
        }
      ]
    },
    {
      "cell_type": "code",
      "metadata": {
        "colab": {
          "base_uri": "https://localhost:8080/"
        },
        "id": "ad1GSLdkTaBi",
        "outputId": "b2b0c07a-3158-44e8-8f2b-fe8148a9977e"
      },
      "source": [
        "! cat numbers.txt | sort | uniq | wc -l  # Количество уникальных элементов в файле"
      ],
      "execution_count": null,
      "outputs": [
        {
          "output_type": "stream",
          "text": [
            "9\n"
          ],
          "name": "stdout"
        }
      ]
    },
    {
      "cell_type": "markdown",
      "metadata": {
        "id": "K816iorATaBi"
      },
      "source": [
        "### Cut\n",
        "\n",
        "cut парсит строки, которые состоят из значений с разделителем. С помощью утилиты можно обрабатывать различные регулярные форматы данных, базирующиеся на разделителях. Например csv или tsv.\n",
        "\n",
        "https://www.opennet.ru/man.shtml?topic=cut&category=1&russian=0\n"
      ]
    },
    {
      "cell_type": "code",
      "metadata": {
        "colab": {
          "base_uri": "https://localhost:8080/"
        },
        "id": "W1_ltXJlTaBi",
        "outputId": "d06ee0d1-00d6-489a-a283-7f743e13096a"
      },
      "source": [
        "! cat grades.csv"
      ],
      "execution_count": null,
      "outputs": [
        {
          "output_type": "stream",
          "text": [
            "\"Last name\", \"First name\", \"SSN\",        \"Test1\", \"Test2\", \"Test3\", \"Test4\", \"Final\", \"Grade\"\n",
            "\"Alfalfa\",   \"Aloysius\",   \"123-45-6789\", 40.0,    90.0,   100.0,    83.0,    49.0,   \"D-\"\n",
            "\"Alfred\",    \"University\", \"123-12-1234\", 41.0,    97.0,    96.0,    97.0,    48.0,   \"D+\"\n",
            "\"Gerty\",     \"Gramma\",     \"567-89-0123\", 41.0,    80.0,    60.0,    40.0,    44.0,   \"C\"\n",
            "\"Android\",   \"Electric\",   \"087-65-4321\", 42.0,    23.0,    36.0,    45.0,    47.0,   \"B-\"\n",
            "\"Bumpkin\",   \"Fred\",       \"456-78-9012\", 43.0,    78.0,    88.0,    77.0,    45.0,   \"A-\"\n",
            "\"Rubble\",    \"Betty\",      \"234-56-7890\", 44.0,    90.0,    80.0,    90.0,    46.0,   \"C-\"\n",
            "\"Noshow\",    \"Cecil\",      \"345-67-8901\", 45.0,    11.0,    -1.0,     4.0,    43.0,   \"F\"\n",
            "\"Buff\",      \"Bif\",        \"632-79-9939\", 46.0,    20.0,    30.0,    40.0,    50.0,   \"B+\"\n",
            "\"Airpump\",   \"Andrew\",     \"223-45-6789\", 49.0      1.0,    90.0,   100.0,    83.0,   \"A\"\n",
            "\"Backus\",    \"Jim\",        \"143-12-1234\", 48.0,     1.0,    97.0,    96.0,    97.0,   \"A+\"\n",
            "\"Carnivore\", \"Art\",        \"565-89-0123\", 44.0,     1.0,    80.0,    60.0,    40.0,   \"D+\"\n",
            "\"Dandy\",     \"Jim\",        \"087-75-4321\", 47.0,     1.0,    23.0,    36.0,    45.0,   \"C+\"\n",
            "\"Elephant\",  \"Ima\",        \"456-71-9012\", 45.0,     1.0,    78.0,    88.0,    77.0,   \"B-\"\n",
            "\"Franklin\",  \"Benny\",      \"234-56-2890\", 50.0,     1.0,    90.0,    80.0,    90.0,   \"B-\"\n",
            "\"George\",    \"Boy\",        \"345-67-3901\", 40.0,     1.0,    11.0,    -1.0,     4.0,   \"B\"\n",
            "\"Heffalump\", \"Harvey\",     \"632-79-9439\", 30.0,     1.0,    20.0,    30.0,    40.0,   \"C\"\n"
          ],
          "name": "stdout"
        }
      ]
    },
    {
      "cell_type": "code",
      "metadata": {
        "colab": {
          "base_uri": "https://localhost:8080/"
        },
        "id": "KEW24XVQTaBj",
        "outputId": "911acbee-28f2-4fa3-d568-f8eaf3343e83"
      },
      "source": [
        "! cat grades.csv | cut -d',' -f4,5,6,7  # разделяем данные по запятой и берем только 6 и 7 столбец"
      ],
      "execution_count": null,
      "outputs": [
        {
          "output_type": "stream",
          "text": [
            "        \"Test1\", \"Test2\", \"Test3\", \"Test4\"\n",
            " 40.0,    90.0,   100.0,    83.0\n",
            " 41.0,    97.0,    96.0,    97.0\n",
            " 41.0,    80.0,    60.0,    40.0\n",
            " 42.0,    23.0,    36.0,    45.0\n",
            " 43.0,    78.0,    88.0,    77.0\n",
            " 44.0,    90.0,    80.0,    90.0\n",
            " 45.0,    11.0,    -1.0,     4.0\n",
            " 46.0,    20.0,    30.0,    40.0\n",
            " 49.0      1.0,    90.0,   100.0,    83.0\n",
            " 48.0,     1.0,    97.0,    96.0\n",
            " 44.0,     1.0,    80.0,    60.0\n",
            " 47.0,     1.0,    23.0,    36.0\n",
            " 45.0,     1.0,    78.0,    88.0\n",
            " 50.0,     1.0,    90.0,    80.0\n",
            " 40.0,     1.0,    11.0,    -1.0\n",
            " 30.0,     1.0,    20.0,    30.0\n"
          ],
          "name": "stdout"
        }
      ]
    },
    {
      "cell_type": "code",
      "metadata": {
        "colab": {
          "base_uri": "https://localhost:8080/"
        },
        "id": "sSJTGGnzTaBj",
        "outputId": "28129e8e-2bf2-4e4b-c6b1-6c91402c51ee"
      },
      "source": [
        "# удаляем заголовок и смотрим только на grade\n",
        "! cat grades.csv | tail -n +2 | cut -d',' -f9 | head"
      ],
      "execution_count": null,
      "outputs": [
        {
          "output_type": "stream",
          "text": [
            "   \"D-\"\n",
            "   \"D+\"\n",
            "   \"C\"\n",
            "   \"B-\"\n",
            "   \"A-\"\n",
            "   \"C-\"\n",
            "   \"F\"\n",
            "   \"B+\"\n",
            "\n",
            "   \"A+\"\n"
          ],
          "name": "stdout"
        }
      ]
    },
    {
      "cell_type": "code",
      "metadata": {
        "colab": {
          "base_uri": "https://localhost:8080/"
        },
        "id": "Cky7YeldTaBj",
        "outputId": "ba623d1e-f401-499f-8c3b-25db8f02d4a8"
      },
      "source": [
        "# Считаем уникальные оценки в графе test1\n",
        "! cat grades.csv | tail -n +2 | cut -d',' -f4 | sort | uniq | wc -l"
      ],
      "execution_count": null,
      "outputs": [
        {
          "output_type": "stream",
          "text": [
            "12\n"
          ],
          "name": "stdout"
        }
      ]
    },
    {
      "cell_type": "code",
      "metadata": {
        "colab": {
          "base_uri": "https://localhost:8080/"
        },
        "id": "Mr7Fm7dCTaBj",
        "outputId": "0f225b3e-1538-442a-8b9e-1ddfb59a0d3d"
      },
      "source": [
        "! uname -a  # информация о системе"
      ],
      "execution_count": null,
      "outputs": [
        {
          "output_type": "stream",
          "text": [
            "Linux 0b0103324ace 5.4.109+ #1 SMP Tue Apr 20 19:55:43 PDT 2021 x86_64 x86_64 x86_64 GNU/Linux\n"
          ],
          "name": "stdout"
        }
      ]
    },
    {
      "cell_type": "code",
      "metadata": {
        "colab": {
          "base_uri": "https://localhost:8080/"
        },
        "id": "cHxaAejTTaBl",
        "outputId": "27c80d3b-2d8d-4d82-8041-7e80016847bb"
      },
      "source": [
        "! uname -a | cut -d\" \" -f1,3,12  # получаем информацию конкретно про ядро"
      ],
      "execution_count": null,
      "outputs": [
        {
          "output_type": "stream",
          "text": [
            "Linux 5.4.109+ x86_64\n"
          ],
          "name": "stdout"
        }
      ]
    },
    {
      "cell_type": "markdown",
      "metadata": {
        "id": "xtb-1EKwTaBl"
      },
      "source": [
        "### Sed & Grep\n",
        "\n",
        "grep позволяет фильтровать входной поток по указанному регулярному выражению\n",
        "sed (sequence editor) - редактор входного потока. Делает примерно тоже, что и grep, однаок имеет свой не очень сложный формат задания правил редактирования. Возможные команды:\n",
        "\n",
        "* `[диапазон]p` - напечатать диапазон строк\n",
        "* `[диапазон]d` - удалить диапазон строкь\n",
        "* `s/[паттерн1]/[паттерн2]` - заменить строку, подходящую под паттерн1 на паттерн2. Может комбинироваться с диапазоном. Также может добавляться ключ g (s/[паттерн1]/[паттерн2]/g) , позволяющая применять правила ко всему потоку сразу. Без этой опции ищется только первое совпадние с паттерном."
      ]
    },
    {
      "cell_type": "code",
      "metadata": {
        "colab": {
          "base_uri": "https://localhost:8080/"
        },
        "id": "uyymznKoTaBl",
        "outputId": "fe58c62f-bacb-4152-b2ce-37cc81fce12f"
      },
      "source": [
        "! cat grades.csv"
      ],
      "execution_count": null,
      "outputs": [
        {
          "output_type": "stream",
          "text": [
            "\"Last name\", \"First name\", \"SSN\",        \"Test1\", \"Test2\", \"Test3\", \"Test4\", \"Final\", \"Grade\"\n",
            "\"Alfalfa\",   \"Aloysius\",   \"123-45-6789\", 40.0,    90.0,   100.0,    83.0,    49.0,   \"D-\"\n",
            "\"Alfred\",    \"University\", \"123-12-1234\", 41.0,    97.0,    96.0,    97.0,    48.0,   \"D+\"\n",
            "\"Gerty\",     \"Gramma\",     \"567-89-0123\", 41.0,    80.0,    60.0,    40.0,    44.0,   \"C\"\n",
            "\"Android\",   \"Electric\",   \"087-65-4321\", 42.0,    23.0,    36.0,    45.0,    47.0,   \"B-\"\n",
            "\"Bumpkin\",   \"Fred\",       \"456-78-9012\", 43.0,    78.0,    88.0,    77.0,    45.0,   \"A-\"\n",
            "\"Rubble\",    \"Betty\",      \"234-56-7890\", 44.0,    90.0,    80.0,    90.0,    46.0,   \"C-\"\n",
            "\"Noshow\",    \"Cecil\",      \"345-67-8901\", 45.0,    11.0,    -1.0,     4.0,    43.0,   \"F\"\n",
            "\"Buff\",      \"Bif\",        \"632-79-9939\", 46.0,    20.0,    30.0,    40.0,    50.0,   \"B+\"\n",
            "\"Airpump\",   \"Andrew\",     \"223-45-6789\", 49.0      1.0,    90.0,   100.0,    83.0,   \"A\"\n",
            "\"Backus\",    \"Jim\",        \"143-12-1234\", 48.0,     1.0,    97.0,    96.0,    97.0,   \"A+\"\n",
            "\"Carnivore\", \"Art\",        \"565-89-0123\", 44.0,     1.0,    80.0,    60.0,    40.0,   \"D+\"\n",
            "\"Dandy\",     \"Jim\",        \"087-75-4321\", 47.0,     1.0,    23.0,    36.0,    45.0,   \"C+\"\n",
            "\"Elephant\",  \"Ima\",        \"456-71-9012\", 45.0,     1.0,    78.0,    88.0,    77.0,   \"B-\"\n",
            "\"Franklin\",  \"Benny\",      \"234-56-2890\", 50.0,     1.0,    90.0,    80.0,    90.0,   \"B-\"\n",
            "\"George\",    \"Boy\",        \"345-67-3901\", 40.0,     1.0,    11.0,    -1.0,     4.0,   \"B\"\n",
            "\"Heffalump\", \"Harvey\",     \"632-79-9439\", 30.0,     1.0,    20.0,    30.0,    40.0,   \"C\"\n"
          ],
          "name": "stdout"
        }
      ]
    },
    {
      "cell_type": "code",
      "metadata": {
        "colab": {
          "base_uri": "https://localhost:8080/"
        },
        "id": "9neuCfTLTaBl",
        "outputId": "70dbff38-f984-4c42-cdcf-19a69f0fdc47"
      },
      "source": [
        "! cat grades.csv | grep Jim  # Ищем только джимов"
      ],
      "execution_count": null,
      "outputs": [
        {
          "output_type": "stream",
          "text": [
            "\"Backus\",    \"Jim\",        \"143-12-1234\", 48.0,     1.0,    97.0,    96.0,    97.0,   \"A+\"\n",
            "\"Dandy\",     \"Jim\",        \"087-75-4321\", 47.0,     1.0,    23.0,    36.0,    45.0,   \"C+\"\n"
          ],
          "name": "stdout"
        }
      ]
    },
    {
      "cell_type": "code",
      "metadata": {
        "colab": {
          "base_uri": "https://localhost:8080/"
        },
        "id": "nxRC6oh3TaBl",
        "outputId": "c15fff0f-ab1e-4e04-e4b2-47346e6315f1"
      },
      "source": [
        "! cat grades.csv | grep \"123\\\\-\""
      ],
      "execution_count": null,
      "outputs": [
        {
          "output_type": "stream",
          "text": [
            "\"Alfalfa\",   \"Aloysius\",   \"123-45-6789\", 40.0,    90.0,   100.0,    83.0,    49.0,   \"D-\"\n",
            "\"Alfred\",    \"University\", \"123-12-1234\", 41.0,    97.0,    96.0,    97.0,    48.0,   \"D+\"\n"
          ],
          "name": "stdout"
        }
      ]
    },
    {
      "cell_type": "markdown",
      "metadata": {
        "id": "sulVHSCvTaBl"
      },
      "source": [
        "Команды для sed можно указывать в файле, однако если сами команды не слишком большие, то удобнее их указывать в виде аргументов командной строки. Для этого необходимо использовать флаг -e.\n",
        "\n",
        "Также при использовании оператора p, необходимо указывать -n, чтобы не отображать лишние строки. В противном случае sed будет выводить вообще все исходные данные.\n",
        "\n",
        "Подробнее можно узнать здесь - https://www.opennet.ru/docs/RUS/bash_scripting_guide/a14586.html"
      ]
    },
    {
      "cell_type": "code",
      "metadata": {
        "colab": {
          "base_uri": "https://localhost:8080/"
        },
        "id": "qwpIF0gQTaBl",
        "outputId": "62836b04-d026-4c85-ccbe-d7f5b89cad5e"
      },
      "source": [
        "! cat grades.csv | sed -n -e \"3\"p  # печатаем третью строку"
      ],
      "execution_count": null,
      "outputs": [
        {
          "output_type": "stream",
          "text": [
            "\"Alfred\",    \"University\", \"123-12-1234\", 41.0,    97.0,    96.0,    97.0,    48.0,   \"D+\"\n"
          ],
          "name": "stdout"
        }
      ]
    },
    {
      "cell_type": "code",
      "metadata": {
        "colab": {
          "base_uri": "https://localhost:8080/"
        },
        "id": "o83bYy1jTaBm",
        "outputId": "c0f5ac16-9b29-4570-86df-1a5affec55f3"
      },
      "source": [
        "! cat grades.csv | sed -n -e \"0~3\"p | head # печатаем каждую третью строку, начиная с нулевой"
      ],
      "execution_count": null,
      "outputs": [
        {
          "output_type": "stream",
          "text": [
            "\"Alfred\",    \"University\", \"123-12-1234\", 41.0,    97.0,    96.0,    97.0,    48.0,   \"D+\"\n",
            "\"Bumpkin\",   \"Fred\",       \"456-78-9012\", 43.0,    78.0,    88.0,    77.0,    45.0,   \"A-\"\n",
            "\"Buff\",      \"Bif\",        \"632-79-9939\", 46.0,    20.0,    30.0,    40.0,    50.0,   \"B+\"\n",
            "\"Carnivore\", \"Art\",        \"565-89-0123\", 44.0,     1.0,    80.0,    60.0,    40.0,   \"D+\"\n",
            "\"Franklin\",  \"Benny\",      \"234-56-2890\", 50.0,     1.0,    90.0,    80.0,    90.0,   \"B-\"\n"
          ],
          "name": "stdout"
        }
      ]
    },
    {
      "cell_type": "code",
      "metadata": {
        "colab": {
          "base_uri": "https://localhost:8080/"
        },
        "id": "1OboyzxcTaBm",
        "outputId": "898a1986-7b60-48cd-ec71-61075e60b485"
      },
      "source": [
        "! cat grades.csv | sed -n -e \"3,5\"p  # печатаем с 3 по 5 строку\n"
      ],
      "execution_count": null,
      "outputs": [
        {
          "output_type": "stream",
          "text": [
            "\"Alfred\",    \"University\", \"123-12-1234\", 41.0,    97.0,    96.0,    97.0,    48.0,   \"D+\"\n",
            "\"Gerty\",     \"Gramma\",     \"567-89-0123\", 41.0,    80.0,    60.0,    40.0,    44.0,   \"C\"\n",
            "\"Android\",   \"Electric\",   \"087-65-4321\", 42.0,    23.0,    36.0,    45.0,    47.0,   \"B-\"\n"
          ],
          "name": "stdout"
        }
      ]
    },
    {
      "cell_type": "code",
      "metadata": {
        "colab": {
          "base_uri": "https://localhost:8080/"
        },
        "id": "bRh03vbTTaBm",
        "outputId": "b718b0e9-dbcf-4972-9654-7eb49004d339"
      },
      "source": [
        "! cat grades.csv | sed -n -e \"6,$\"p  # печатаем с 6 до конца"
      ],
      "execution_count": null,
      "outputs": [
        {
          "output_type": "stream",
          "text": [
            "\"Bumpkin\",   \"Fred\",       \"456-78-9012\", 43.0,    78.0,    88.0,    77.0,    45.0,   \"A-\"\n",
            "\"Rubble\",    \"Betty\",      \"234-56-7890\", 44.0,    90.0,    80.0,    90.0,    46.0,   \"C-\"\n",
            "\"Noshow\",    \"Cecil\",      \"345-67-8901\", 45.0,    11.0,    -1.0,     4.0,    43.0,   \"F\"\n",
            "\"Buff\",      \"Bif\",        \"632-79-9939\", 46.0,    20.0,    30.0,    40.0,    50.0,   \"B+\"\n",
            "\"Airpump\",   \"Andrew\",     \"223-45-6789\", 49.0      1.0,    90.0,   100.0,    83.0,   \"A\"\n",
            "\"Backus\",    \"Jim\",        \"143-12-1234\", 48.0,     1.0,    97.0,    96.0,    97.0,   \"A+\"\n",
            "\"Carnivore\", \"Art\",        \"565-89-0123\", 44.0,     1.0,    80.0,    60.0,    40.0,   \"D+\"\n",
            "\"Dandy\",     \"Jim\",        \"087-75-4321\", 47.0,     1.0,    23.0,    36.0,    45.0,   \"C+\"\n",
            "\"Elephant\",  \"Ima\",        \"456-71-9012\", 45.0,     1.0,    78.0,    88.0,    77.0,   \"B-\"\n",
            "\"Franklin\",  \"Benny\",      \"234-56-2890\", 50.0,     1.0,    90.0,    80.0,    90.0,   \"B-\"\n",
            "\"George\",    \"Boy\",        \"345-67-3901\", 40.0,     1.0,    11.0,    -1.0,     4.0,   \"B\"\n",
            "\"Heffalump\", \"Harvey\",     \"632-79-9439\", 30.0,     1.0,    20.0,    30.0,    40.0,   \"C\"\n"
          ],
          "name": "stdout"
        }
      ]
    },
    {
      "cell_type": "code",
      "metadata": {
        "colab": {
          "base_uri": "https://localhost:8080/"
        },
        "id": "YrpFIYpUTaBm",
        "outputId": "1d872c9f-e093-44b8-e445-c2039fcd9134"
      },
      "source": [
        "! cat grades.csv | sed -n -e \"/Jim/\"p  # печатаем все, которые подходят под паттерн (тоже что и grep)"
      ],
      "execution_count": null,
      "outputs": [
        {
          "output_type": "stream",
          "text": [
            "\"Backus\",    \"Jim\",        \"143-12-1234\", 48.0,     1.0,    97.0,    96.0,    97.0,   \"A+\"\n",
            "\"Dandy\",     \"Jim\",        \"087-75-4321\", 47.0,     1.0,    23.0,    36.0,    45.0,   \"C+\"\n"
          ],
          "name": "stdout"
        }
      ]
    },
    {
      "cell_type": "code",
      "metadata": {
        "colab": {
          "base_uri": "https://localhost:8080/"
        },
        "id": "cyMbOkJtTaBm",
        "outputId": "866e28c1-a0d5-4302-a1f9-ef2611a490ac"
      },
      "source": [
        "# Паттерны могут быть и более сложными. Например здесь паттерн ищем все Yankton ИЛИ NC\n",
        "! cat grades.csv | sed -n -e \"/Jim\\|Fred/\"p"
      ],
      "execution_count": null,
      "outputs": [
        {
          "output_type": "stream",
          "text": [
            "\"Bumpkin\",   \"Fred\",       \"456-78-9012\", 43.0,    78.0,    88.0,    77.0,    45.0,   \"A-\"\n",
            "\"Backus\",    \"Jim\",        \"143-12-1234\", 48.0,     1.0,    97.0,    96.0,    97.0,   \"A+\"\n",
            "\"Dandy\",     \"Jim\",        \"087-75-4321\", 47.0,     1.0,    23.0,    36.0,    45.0,   \"C+\"\n"
          ],
          "name": "stdout"
        }
      ]
    },
    {
      "cell_type": "code",
      "metadata": {
        "colab": {
          "base_uri": "https://localhost:8080/"
        },
        "id": "trjwPiXxTaBn",
        "outputId": "f5e7bb27-1667-4fe1-bfec-9e58fe484d7d"
      },
      "source": [
        "! cat grades.csv | sed -n -e \"/Bif/,/Ima/\"p  # поток от первой записи где есть Bif до записи с Ima"
      ],
      "execution_count": null,
      "outputs": [
        {
          "output_type": "stream",
          "text": [
            "\"Buff\",      \"Bif\",        \"632-79-9939\", 46.0,    20.0,    30.0,    40.0,    50.0,   \"B+\"\n",
            "\"Airpump\",   \"Andrew\",     \"223-45-6789\", 49.0      1.0,    90.0,   100.0,    83.0,   \"A\"\n",
            "\"Backus\",    \"Jim\",        \"143-12-1234\", 48.0,     1.0,    97.0,    96.0,    97.0,   \"A+\"\n",
            "\"Carnivore\", \"Art\",        \"565-89-0123\", 44.0,     1.0,    80.0,    60.0,    40.0,   \"D+\"\n",
            "\"Dandy\",     \"Jim\",        \"087-75-4321\", 47.0,     1.0,    23.0,    36.0,    45.0,   \"C+\"\n",
            "\"Elephant\",  \"Ima\",        \"456-71-9012\", 45.0,     1.0,    78.0,    88.0,    77.0,   \"B-\"\n"
          ],
          "name": "stdout"
        }
      ]
    },
    {
      "cell_type": "markdown",
      "metadata": {
        "id": "NnYBFfqoTaBn"
      },
      "source": [
        "Точно также можно пользоваться оператором удаления `d`"
      ]
    },
    {
      "cell_type": "code",
      "metadata": {
        "colab": {
          "base_uri": "https://localhost:8080/"
        },
        "id": "2PgufQ4UTaBn",
        "outputId": "67272dba-1fed-451c-9585-e4ad1a72ceb5"
      },
      "source": [
        "! cat grades.csv | sed -e \"/Bif/,/Ima/\"d | head # удаляем все с Bif до Ima"
      ],
      "execution_count": null,
      "outputs": [
        {
          "output_type": "stream",
          "text": [
            "\"Last name\", \"First name\", \"SSN\",        \"Test1\", \"Test2\", \"Test3\", \"Test4\", \"Final\", \"Grade\"\n",
            "\"Alfalfa\",   \"Aloysius\",   \"123-45-6789\", 40.0,    90.0,   100.0,    83.0,    49.0,   \"D-\"\n",
            "\"Alfred\",    \"University\", \"123-12-1234\", 41.0,    97.0,    96.0,    97.0,    48.0,   \"D+\"\n",
            "\"Gerty\",     \"Gramma\",     \"567-89-0123\", 41.0,    80.0,    60.0,    40.0,    44.0,   \"C\"\n",
            "\"Android\",   \"Electric\",   \"087-65-4321\", 42.0,    23.0,    36.0,    45.0,    47.0,   \"B-\"\n",
            "\"Bumpkin\",   \"Fred\",       \"456-78-9012\", 43.0,    78.0,    88.0,    77.0,    45.0,   \"A-\"\n",
            "\"Rubble\",    \"Betty\",      \"234-56-7890\", 44.0,    90.0,    80.0,    90.0,    46.0,   \"C-\"\n",
            "\"Noshow\",    \"Cecil\",      \"345-67-8901\", 45.0,    11.0,    -1.0,     4.0,    43.0,   \"F\"\n",
            "\"Franklin\",  \"Benny\",      \"234-56-2890\", 50.0,     1.0,    90.0,    80.0,    90.0,   \"B-\"\n",
            "\"George\",    \"Boy\",        \"345-67-3901\", 40.0,     1.0,    11.0,    -1.0,     4.0,   \"B\"\n"
          ],
          "name": "stdout"
        }
      ]
    },
    {
      "cell_type": "markdown",
      "metadata": {
        "id": "po0XLEiLTaBn"
      },
      "source": [
        "Оператором `s` можно заменять какие-то элементы потока. "
      ]
    },
    {
      "cell_type": "code",
      "metadata": {
        "colab": {
          "base_uri": "https://localhost:8080/"
        },
        "id": "A_KvCIPeTaBn",
        "outputId": "ae393d84-a7d8-4dc2-ef5e-c09e6c3cf0b2"
      },
      "source": [
        "! cat grades.csv | sed -e \"s/Jim/Weierstrass/\""
      ],
      "execution_count": null,
      "outputs": [
        {
          "output_type": "stream",
          "text": [
            "\"Last name\", \"First name\", \"SSN\",        \"Test1\", \"Test2\", \"Test3\", \"Test4\", \"Final\", \"Grade\"\n",
            "\"Alfalfa\",   \"Aloysius\",   \"123-45-6789\", 40.0,    90.0,   100.0,    83.0,    49.0,   \"D-\"\n",
            "\"Alfred\",    \"University\", \"123-12-1234\", 41.0,    97.0,    96.0,    97.0,    48.0,   \"D+\"\n",
            "\"Gerty\",     \"Gramma\",     \"567-89-0123\", 41.0,    80.0,    60.0,    40.0,    44.0,   \"C\"\n",
            "\"Android\",   \"Electric\",   \"087-65-4321\", 42.0,    23.0,    36.0,    45.0,    47.0,   \"B-\"\n",
            "\"Bumpkin\",   \"Fred\",       \"456-78-9012\", 43.0,    78.0,    88.0,    77.0,    45.0,   \"A-\"\n",
            "\"Rubble\",    \"Betty\",      \"234-56-7890\", 44.0,    90.0,    80.0,    90.0,    46.0,   \"C-\"\n",
            "\"Noshow\",    \"Cecil\",      \"345-67-8901\", 45.0,    11.0,    -1.0,     4.0,    43.0,   \"F\"\n",
            "\"Buff\",      \"Bif\",        \"632-79-9939\", 46.0,    20.0,    30.0,    40.0,    50.0,   \"B+\"\n",
            "\"Airpump\",   \"Andrew\",     \"223-45-6789\", 49.0      1.0,    90.0,   100.0,    83.0,   \"A\"\n",
            "\"Backus\",    \"Weierstrass\",        \"143-12-1234\", 48.0,     1.0,    97.0,    96.0,    97.0,   \"A+\"\n",
            "\"Carnivore\", \"Art\",        \"565-89-0123\", 44.0,     1.0,    80.0,    60.0,    40.0,   \"D+\"\n",
            "\"Dandy\",     \"Weierstrass\",        \"087-75-4321\", 47.0,     1.0,    23.0,    36.0,    45.0,   \"C+\"\n",
            "\"Elephant\",  \"Ima\",        \"456-71-9012\", 45.0,     1.0,    78.0,    88.0,    77.0,   \"B-\"\n",
            "\"Franklin\",  \"Benny\",      \"234-56-2890\", 50.0,     1.0,    90.0,    80.0,    90.0,   \"B-\"\n",
            "\"George\",    \"Boy\",        \"345-67-3901\", 40.0,     1.0,    11.0,    -1.0,     4.0,   \"B\"\n",
            "\"Heffalump\", \"Harvey\",     \"632-79-9439\", 30.0,     1.0,    20.0,    30.0,    40.0,   \"C\"\n"
          ],
          "name": "stdout"
        }
      ]
    },
    {
      "cell_type": "markdown",
      "metadata": {
        "id": "DFIWMnpxTaBn"
      },
      "source": [
        "Команда sed также имеет ключ -i позволяющий редактировать файлы \"на месте\". Например мы можем убрать заголовок у csv файла, не создавая новый, а отредактировав старый, что гораздо быстрее и менее затратно с точки зрения диска."
      ]
    },
    {
      "cell_type": "code",
      "metadata": {
        "id": "_A5GpRpCTaBn"
      },
      "source": [
        "! cp grades.csv grades-headless.csv"
      ],
      "execution_count": null,
      "outputs": []
    },
    {
      "cell_type": "code",
      "metadata": {
        "colab": {
          "base_uri": "https://localhost:8080/"
        },
        "id": "zjhX__zXTaBn",
        "outputId": "fb33f37f-8f66-466d-9b1c-7f2f6d103bdf"
      },
      "source": [
        "! head grades-headless.csv"
      ],
      "execution_count": null,
      "outputs": [
        {
          "output_type": "stream",
          "text": [
            "\"Last name\", \"First name\", \"SSN\",        \"Test1\", \"Test2\", \"Test3\", \"Test4\", \"Final\", \"Grade\"\n",
            "\"Alfalfa\",   \"Aloysius\",   \"123-45-6789\", 40.0,    90.0,   100.0,    83.0,    49.0,   \"D-\"\n",
            "\"Alfred\",    \"University\", \"123-12-1234\", 41.0,    97.0,    96.0,    97.0,    48.0,   \"D+\"\n",
            "\"Gerty\",     \"Gramma\",     \"567-89-0123\", 41.0,    80.0,    60.0,    40.0,    44.0,   \"C\"\n",
            "\"Android\",   \"Electric\",   \"087-65-4321\", 42.0,    23.0,    36.0,    45.0,    47.0,   \"B-\"\n",
            "\"Bumpkin\",   \"Fred\",       \"456-78-9012\", 43.0,    78.0,    88.0,    77.0,    45.0,   \"A-\"\n",
            "\"Rubble\",    \"Betty\",      \"234-56-7890\", 44.0,    90.0,    80.0,    90.0,    46.0,   \"C-\"\n",
            "\"Noshow\",    \"Cecil\",      \"345-67-8901\", 45.0,    11.0,    -1.0,     4.0,    43.0,   \"F\"\n",
            "\"Buff\",      \"Bif\",        \"632-79-9939\", 46.0,    20.0,    30.0,    40.0,    50.0,   \"B+\"\n",
            "\"Airpump\",   \"Andrew\",     \"223-45-6789\", 49.0      1.0,    90.0,   100.0,    83.0,   \"A\"\n"
          ],
          "name": "stdout"
        }
      ]
    },
    {
      "cell_type": "code",
      "metadata": {
        "id": "97tqlXWRTaBo"
      },
      "source": [
        "! sed -i grades-headless.csv -e '1'd"
      ],
      "execution_count": null,
      "outputs": []
    },
    {
      "cell_type": "code",
      "metadata": {
        "colab": {
          "base_uri": "https://localhost:8080/"
        },
        "id": "xTtpiCJITaBo",
        "outputId": "04e26db9-4035-482b-8428-796d35241ad7"
      },
      "source": [
        "! head grades-headless.csv"
      ],
      "execution_count": null,
      "outputs": [
        {
          "output_type": "stream",
          "text": [
            "\"Alfalfa\",   \"Aloysius\",   \"123-45-6789\", 40.0,    90.0,   100.0,    83.0,    49.0,   \"D-\"\n",
            "\"Alfred\",    \"University\", \"123-12-1234\", 41.0,    97.0,    96.0,    97.0,    48.0,   \"D+\"\n",
            "\"Gerty\",     \"Gramma\",     \"567-89-0123\", 41.0,    80.0,    60.0,    40.0,    44.0,   \"C\"\n",
            "\"Android\",   \"Electric\",   \"087-65-4321\", 42.0,    23.0,    36.0,    45.0,    47.0,   \"B-\"\n",
            "\"Bumpkin\",   \"Fred\",       \"456-78-9012\", 43.0,    78.0,    88.0,    77.0,    45.0,   \"A-\"\n",
            "\"Rubble\",    \"Betty\",      \"234-56-7890\", 44.0,    90.0,    80.0,    90.0,    46.0,   \"C-\"\n",
            "\"Noshow\",    \"Cecil\",      \"345-67-8901\", 45.0,    11.0,    -1.0,     4.0,    43.0,   \"F\"\n",
            "\"Buff\",      \"Bif\",        \"632-79-9939\", 46.0,    20.0,    30.0,    40.0,    50.0,   \"B+\"\n",
            "\"Airpump\",   \"Andrew\",     \"223-45-6789\", 49.0      1.0,    90.0,   100.0,    83.0,   \"A\"\n",
            "\"Backus\",    \"Jim\",        \"143-12-1234\", 48.0,     1.0,    97.0,    96.0,    97.0,   \"A+\"\n"
          ],
          "name": "stdout"
        }
      ]
    },
    {
      "cell_type": "markdown",
      "metadata": {
        "id": "NYF0quGSTaBo"
      },
      "source": [
        "### Jq\n",
        "jq не является стандартной программой и ее необходимо самостоятельно установить. Для Ubuntu - apt-get install jq.\n",
        "\n",
        "jq - это манипулятор JSON документами. Имеет свой язык запросов к JSON, чем то похожий на пайплайны в bash.\n",
        "\n",
        "Подробнее узнать можно здесь - https://stedolan.github.io/jq/\n",
        "\n",
        "В файле covid.json содержатся записи о заболеваниях короновирусом в различных странах."
      ]
    },
    {
      "cell_type": "code",
      "metadata": {
        "colab": {
          "base_uri": "https://localhost:8080/"
        },
        "id": "7DlVEaGBTaBo",
        "outputId": "dc628881-b0a3-4521-86f6-0b7fa3e4e725"
      },
      "source": [
        "! apt-get update && apt-get install jq -y"
      ],
      "execution_count": null,
      "outputs": [
        {
          "output_type": "stream",
          "text": [
            "Get:1 http://security.ubuntu.com/ubuntu bionic-security InRelease [88.7 kB]\n",
            "Get:2 https://cloud.r-project.org/bin/linux/ubuntu bionic-cran40/ InRelease [3,626 B]\n",
            "Ign:3 https://developer.download.nvidia.com/compute/cuda/repos/ubuntu1804/x86_64  InRelease\n",
            "Ign:4 https://developer.download.nvidia.com/compute/machine-learning/repos/ubuntu1804/x86_64  InRelease\n",
            "Hit:5 http://archive.ubuntu.com/ubuntu bionic InRelease\n",
            "Get:6 http://ppa.launchpad.net/c2d4u.team/c2d4u4.0+/ubuntu bionic InRelease [15.9 kB]\n",
            "Get:7 https://developer.download.nvidia.com/compute/cuda/repos/ubuntu1804/x86_64  Release [697 B]\n",
            "Hit:8 https://developer.download.nvidia.com/compute/machine-learning/repos/ubuntu1804/x86_64  Release\n",
            "Get:9 https://developer.download.nvidia.com/compute/cuda/repos/ubuntu1804/x86_64  Release.gpg [836 B]\n",
            "Get:10 http://archive.ubuntu.com/ubuntu bionic-updates InRelease [88.7 kB]\n",
            "Hit:11 http://ppa.launchpad.net/cran/libgit2/ubuntu bionic InRelease\n",
            "Get:12 http://security.ubuntu.com/ubuntu bionic-security/main amd64 Packages [2,152 kB]\n",
            "Get:13 http://archive.ubuntu.com/ubuntu bionic-backports InRelease [74.6 kB]\n",
            "Get:14 http://security.ubuntu.com/ubuntu bionic-security/universe amd64 Packages [1,412 kB]\n",
            "Hit:15 http://ppa.launchpad.net/deadsnakes/ppa/ubuntu bionic InRelease\n",
            "Get:16 http://security.ubuntu.com/ubuntu bionic-security/restricted amd64 Packages [423 kB]\n",
            "Get:17 http://ppa.launchpad.net/graphics-drivers/ppa/ubuntu bionic InRelease [21.3 kB]\n",
            "Get:18 https://cloud.r-project.org/bin/linux/ubuntu bionic-cran40/ Packages [60.5 kB]\n",
            "Ign:20 https://developer.download.nvidia.com/compute/cuda/repos/ubuntu1804/x86_64  Packages\n",
            "Get:20 https://developer.download.nvidia.com/compute/cuda/repos/ubuntu1804/x86_64  Packages [772 kB]\n",
            "Get:21 http://ppa.launchpad.net/c2d4u.team/c2d4u4.0+/ubuntu bionic/main Sources [1,767 kB]\n",
            "Get:22 http://archive.ubuntu.com/ubuntu bionic-updates/universe amd64 Packages [2,183 kB]\n",
            "Get:23 http://ppa.launchpad.net/c2d4u.team/c2d4u4.0+/ubuntu bionic/main amd64 Packages [904 kB]\n",
            "Get:24 http://archive.ubuntu.com/ubuntu bionic-updates/restricted amd64 Packages [452 kB]\n",
            "Get:25 http://archive.ubuntu.com/ubuntu bionic-updates/main amd64 Packages [2,583 kB]\n",
            "Get:26 http://ppa.launchpad.net/graphics-drivers/ppa/ubuntu bionic/main amd64 Packages [41.5 kB]\n",
            "Fetched 13.0 MB in 4s (3,225 kB/s)\n",
            "Reading package lists... Done\n",
            "Reading package lists... Done\n",
            "Building dependency tree       \n",
            "Reading state information... Done\n",
            "The following package was automatically installed and is no longer required:\n",
            "  libnvidia-common-460\n",
            "Use 'apt autoremove' to remove it.\n",
            "The following additional packages will be installed:\n",
            "  libjq1 libonig4\n",
            "The following NEW packages will be installed:\n",
            "  jq libjq1 libonig4\n",
            "0 upgraded, 3 newly installed, 0 to remove and 72 not upgraded.\n",
            "Need to get 276 kB of archives.\n",
            "After this operation, 930 kB of additional disk space will be used.\n",
            "Get:1 http://archive.ubuntu.com/ubuntu bionic/universe amd64 libonig4 amd64 6.7.0-1 [119 kB]\n",
            "Get:2 http://archive.ubuntu.com/ubuntu bionic/universe amd64 libjq1 amd64 1.5+dfsg-2 [111 kB]\n",
            "Get:3 http://archive.ubuntu.com/ubuntu bionic/universe amd64 jq amd64 1.5+dfsg-2 [45.6 kB]\n",
            "Fetched 276 kB in 1s (384 kB/s)\n",
            "Selecting previously unselected package libonig4:amd64.\n",
            "(Reading database ... 160706 files and directories currently installed.)\n",
            "Preparing to unpack .../libonig4_6.7.0-1_amd64.deb ...\n",
            "Unpacking libonig4:amd64 (6.7.0-1) ...\n",
            "Selecting previously unselected package libjq1:amd64.\n",
            "Preparing to unpack .../libjq1_1.5+dfsg-2_amd64.deb ...\n",
            "Unpacking libjq1:amd64 (1.5+dfsg-2) ...\n",
            "Selecting previously unselected package jq.\n",
            "Preparing to unpack .../jq_1.5+dfsg-2_amd64.deb ...\n",
            "Unpacking jq (1.5+dfsg-2) ...\n",
            "Setting up libonig4:amd64 (6.7.0-1) ...\n",
            "Setting up libjq1:amd64 (1.5+dfsg-2) ...\n",
            "Setting up jq (1.5+dfsg-2) ...\n",
            "Processing triggers for man-db (2.8.3-2ubuntu0.1) ...\n",
            "Processing triggers for libc-bin (2.27-3ubuntu1.2) ...\n",
            "/sbin/ldconfig.real: /usr/local/lib/python3.7/dist-packages/ideep4py/lib/libmkldnn.so.0 is not a symbolic link\n",
            "\n"
          ],
          "name": "stdout"
        }
      ]
    },
    {
      "cell_type": "code",
      "metadata": {
        "colab": {
          "base_uri": "https://localhost:8080/"
        },
        "id": "uJwhjf9ITaBo",
        "outputId": "d28471fb-b9ac-436f-ff7c-5c2a9ca413fb"
      },
      "source": [
        "! head covid.json"
      ],
      "execution_count": null,
      "outputs": [
        {
          "output_type": "stream",
          "text": [
            "{\n",
            "    \"measures\": [\n",
            "        {\n",
            "            \"uid\": 4,\n",
            "            \"country_iso2\": \"AF\",\n",
            "            \"country_iso3\": \"AFG\",\n",
            "            \"country_code\": 4,\n",
            "            \"country\": \"Afghanistan\",\n",
            "            \"combined_name\": \"Afghanistan\",\n",
            "            \"population\": 38928341,\n"
          ],
          "name": "stdout"
        }
      ]
    },
    {
      "cell_type": "markdown",
      "metadata": {
        "id": "JhsEYppsTaBo"
      },
      "source": [
        "Основной формат запроса в jq - это json path - путь из ключей, по которому нужно пройтись. Каждый такой path генерирует новый поток данных, согласно этому запросу, который можно дальше модифицировать.\n",
        "\n",
        "Самый короткий запрос это . - то есть мы запрашиваем весть документ целиком. Попробуем посмотреть на первый элемент в массиве measures."
      ]
    },
    {
      "cell_type": "code",
      "metadata": {
        "colab": {
          "base_uri": "https://localhost:8080/"
        },
        "id": "VsOAzQmgTaBo",
        "outputId": "5cec16e6-8b92-4d52-a096-53902867e529"
      },
      "source": [
        "! cat covid.json | jq '.measures[0]'"
      ],
      "execution_count": null,
      "outputs": [
        {
          "output_type": "stream",
          "text": [
            "\u001b[1;39m{\n",
            "  \u001b[0m\u001b[34;1m\"uid\"\u001b[0m\u001b[1;39m: \u001b[0m\u001b[0;39m4\u001b[0m\u001b[1;39m,\n",
            "  \u001b[0m\u001b[34;1m\"country_iso2\"\u001b[0m\u001b[1;39m: \u001b[0m\u001b[0;32m\"AF\"\u001b[0m\u001b[1;39m,\n",
            "  \u001b[0m\u001b[34;1m\"country_iso3\"\u001b[0m\u001b[1;39m: \u001b[0m\u001b[0;32m\"AFG\"\u001b[0m\u001b[1;39m,\n",
            "  \u001b[0m\u001b[34;1m\"country_code\"\u001b[0m\u001b[1;39m: \u001b[0m\u001b[0;39m4\u001b[0m\u001b[1;39m,\n",
            "  \u001b[0m\u001b[34;1m\"country\"\u001b[0m\u001b[1;39m: \u001b[0m\u001b[0;32m\"Afghanistan\"\u001b[0m\u001b[1;39m,\n",
            "  \u001b[0m\u001b[34;1m\"combined_name\"\u001b[0m\u001b[1;39m: \u001b[0m\u001b[0;32m\"Afghanistan\"\u001b[0m\u001b[1;39m,\n",
            "  \u001b[0m\u001b[34;1m\"population\"\u001b[0m\u001b[1;39m: \u001b[0m\u001b[0;39m38928341\u001b[0m\u001b[1;39m,\n",
            "  \u001b[0m\u001b[34;1m\"loc\"\u001b[0m\u001b[1;39m: \u001b[0m\u001b[1;39m{\n",
            "    \u001b[0m\u001b[34;1m\"type\"\u001b[0m\u001b[1;39m: \u001b[0m\u001b[0;32m\"Point\"\u001b[0m\u001b[1;39m,\n",
            "    \u001b[0m\u001b[34;1m\"coordinates\"\u001b[0m\u001b[1;39m: \u001b[0m\u001b[1;39m[\n",
            "      \u001b[0;39m67.71\u001b[0m\u001b[1;39m,\n",
            "      \u001b[0;39m33.9391\u001b[0m\u001b[1;39m\n",
            "    \u001b[1;39m]\u001b[0m\u001b[1;39m\n",
            "  \u001b[1;39m}\u001b[0m\u001b[1;39m,\n",
            "  \u001b[0m\u001b[34;1m\"confirmed\"\u001b[0m\u001b[1;39m: \u001b[0m\u001b[0;39m0\u001b[0m\u001b[1;39m,\n",
            "  \u001b[0m\u001b[34;1m\"deaths\"\u001b[0m\u001b[1;39m: \u001b[0m\u001b[0;39m0\u001b[0m\u001b[1;39m,\n",
            "  \u001b[0m\u001b[34;1m\"recovered\"\u001b[0m\u001b[1;39m: \u001b[0m\u001b[0;39m0\u001b[0m\u001b[1;39m\n",
            "\u001b[1;39m}\u001b[0m\n"
          ],
          "name": "stdout"
        }
      ]
    },
    {
      "cell_type": "code",
      "metadata": {
        "colab": {
          "base_uri": "https://localhost:8080/"
        },
        "id": "yEtbQ8OzTaBp",
        "outputId": "8a8e109e-30bb-46fa-9cd8-3a4e338cd7db"
      },
      "source": [
        "! cat covid.json | jq '.measures[0].country'"
      ],
      "execution_count": null,
      "outputs": [
        {
          "output_type": "stream",
          "text": [
            "\u001b[0;32m\"Afghanistan\"\u001b[0m\n"
          ],
          "name": "stdout"
        }
      ]
    },
    {
      "cell_type": "code",
      "metadata": {
        "colab": {
          "base_uri": "https://localhost:8080/"
        },
        "id": "QI6eHl9kTaBp",
        "outputId": "41551a35-93a9-4366-d49c-dcd09807a896"
      },
      "source": [
        "! cat covid.json | jq '. | keys'"
      ],
      "execution_count": null,
      "outputs": [
        {
          "output_type": "stream",
          "text": [
            "\u001b[1;39m[\n",
            "  \u001b[0;32m\"measures\"\u001b[0m\u001b[1;39m\n",
            "\u001b[1;39m]\u001b[0m\n"
          ],
          "name": "stdout"
        }
      ]
    },
    {
      "cell_type": "code",
      "metadata": {
        "colab": {
          "base_uri": "https://localhost:8080/"
        },
        "id": "yxpgg97jTaBp",
        "outputId": "29a35efc-5a0d-44c6-fd82-0e1afb96f2ff"
      },
      "source": [
        "! cat covid.json | jq '.measures[0] | keys'"
      ],
      "execution_count": null,
      "outputs": [
        {
          "output_type": "stream",
          "text": [
            "\u001b[1;39m[\n",
            "  \u001b[0;32m\"combined_name\"\u001b[0m\u001b[1;39m,\n",
            "  \u001b[0;32m\"confirmed\"\u001b[0m\u001b[1;39m,\n",
            "  \u001b[0;32m\"country\"\u001b[0m\u001b[1;39m,\n",
            "  \u001b[0;32m\"country_code\"\u001b[0m\u001b[1;39m,\n",
            "  \u001b[0;32m\"country_iso2\"\u001b[0m\u001b[1;39m,\n",
            "  \u001b[0;32m\"country_iso3\"\u001b[0m\u001b[1;39m,\n",
            "  \u001b[0;32m\"deaths\"\u001b[0m\u001b[1;39m,\n",
            "  \u001b[0;32m\"loc\"\u001b[0m\u001b[1;39m,\n",
            "  \u001b[0;32m\"population\"\u001b[0m\u001b[1;39m,\n",
            "  \u001b[0;32m\"recovered\"\u001b[0m\u001b[1;39m,\n",
            "  \u001b[0;32m\"uid\"\u001b[0m\u001b[1;39m\n",
            "\u001b[1;39m]\u001b[0m\n"
          ],
          "name": "stdout"
        }
      ]
    },
    {
      "cell_type": "code",
      "metadata": {
        "colab": {
          "base_uri": "https://localhost:8080/"
        },
        "id": "zSkbEWeXTaBp",
        "outputId": "c208cbab-d280-4320-8461-ee30a1ead97c"
      },
      "source": [
        "! cat covid.json | jq '.measures[0].loc | keys'"
      ],
      "execution_count": null,
      "outputs": [
        {
          "output_type": "stream",
          "text": [
            "\u001b[1;39m[\n",
            "  \u001b[0;32m\"coordinates\"\u001b[0m\u001b[1;39m,\n",
            "  \u001b[0;32m\"type\"\u001b[0m\u001b[1;39m\n",
            "\u001b[1;39m]\u001b[0m\n"
          ],
          "name": "stdout"
        }
      ]
    },
    {
      "cell_type": "code",
      "metadata": {
        "colab": {
          "base_uri": "https://localhost:8080/"
        },
        "id": "2OWjh3nqTaBp",
        "outputId": "26e55d21-2e12-401d-87ef-950469d88d70"
      },
      "source": [
        "! cat covid.json | jq '.measures[3:5]'"
      ],
      "execution_count": null,
      "outputs": [
        {
          "output_type": "stream",
          "text": [
            "\u001b[1;39m[\n",
            "  \u001b[1;39m{\n",
            "    \u001b[0m\u001b[34;1m\"uid\"\u001b[0m\u001b[1;39m: \u001b[0m\u001b[0;39m4\u001b[0m\u001b[1;39m,\n",
            "    \u001b[0m\u001b[34;1m\"country_iso2\"\u001b[0m\u001b[1;39m: \u001b[0m\u001b[0;32m\"AF\"\u001b[0m\u001b[1;39m,\n",
            "    \u001b[0m\u001b[34;1m\"country_iso3\"\u001b[0m\u001b[1;39m: \u001b[0m\u001b[0;32m\"AFG\"\u001b[0m\u001b[1;39m,\n",
            "    \u001b[0m\u001b[34;1m\"country_code\"\u001b[0m\u001b[1;39m: \u001b[0m\u001b[0;39m4\u001b[0m\u001b[1;39m,\n",
            "    \u001b[0m\u001b[34;1m\"country\"\u001b[0m\u001b[1;39m: \u001b[0m\u001b[0;32m\"Afghanistan\"\u001b[0m\u001b[1;39m,\n",
            "    \u001b[0m\u001b[34;1m\"combined_name\"\u001b[0m\u001b[1;39m: \u001b[0m\u001b[0;32m\"Afghanistan\"\u001b[0m\u001b[1;39m,\n",
            "    \u001b[0m\u001b[34;1m\"population\"\u001b[0m\u001b[1;39m: \u001b[0m\u001b[0;39m38928341\u001b[0m\u001b[1;39m,\n",
            "    \u001b[0m\u001b[34;1m\"loc\"\u001b[0m\u001b[1;39m: \u001b[0m\u001b[1;39m{\n",
            "      \u001b[0m\u001b[34;1m\"type\"\u001b[0m\u001b[1;39m: \u001b[0m\u001b[0;32m\"Point\"\u001b[0m\u001b[1;39m,\n",
            "      \u001b[0m\u001b[34;1m\"coordinates\"\u001b[0m\u001b[1;39m: \u001b[0m\u001b[1;39m[\n",
            "        \u001b[0;39m67.71\u001b[0m\u001b[1;39m,\n",
            "        \u001b[0;39m33.9391\u001b[0m\u001b[1;39m\n",
            "      \u001b[1;39m]\u001b[0m\u001b[1;39m\n",
            "    \u001b[1;39m}\u001b[0m\u001b[1;39m,\n",
            "    \u001b[0m\u001b[34;1m\"confirmed\"\u001b[0m\u001b[1;39m: \u001b[0m\u001b[0;39m0\u001b[0m\u001b[1;39m,\n",
            "    \u001b[0m\u001b[34;1m\"deaths\"\u001b[0m\u001b[1;39m: \u001b[0m\u001b[0;39m0\u001b[0m\u001b[1;39m,\n",
            "    \u001b[0m\u001b[34;1m\"recovered\"\u001b[0m\u001b[1;39m: \u001b[0m\u001b[0;39m0\u001b[0m\u001b[1;39m\n",
            "  \u001b[1;39m}\u001b[0m\u001b[1;39m,\n",
            "  \u001b[1;39m{\n",
            "    \u001b[0m\u001b[34;1m\"uid\"\u001b[0m\u001b[1;39m: \u001b[0m\u001b[0;39m4\u001b[0m\u001b[1;39m,\n",
            "    \u001b[0m\u001b[34;1m\"country_iso2\"\u001b[0m\u001b[1;39m: \u001b[0m\u001b[0;32m\"AF\"\u001b[0m\u001b[1;39m,\n",
            "    \u001b[0m\u001b[34;1m\"country_iso3\"\u001b[0m\u001b[1;39m: \u001b[0m\u001b[0;32m\"AFG\"\u001b[0m\u001b[1;39m,\n",
            "    \u001b[0m\u001b[34;1m\"country_code\"\u001b[0m\u001b[1;39m: \u001b[0m\u001b[0;39m4\u001b[0m\u001b[1;39m,\n",
            "    \u001b[0m\u001b[34;1m\"country\"\u001b[0m\u001b[1;39m: \u001b[0m\u001b[0;32m\"Afghanistan\"\u001b[0m\u001b[1;39m,\n",
            "    \u001b[0m\u001b[34;1m\"combined_name\"\u001b[0m\u001b[1;39m: \u001b[0m\u001b[0;32m\"Afghanistan\"\u001b[0m\u001b[1;39m,\n",
            "    \u001b[0m\u001b[34;1m\"population\"\u001b[0m\u001b[1;39m: \u001b[0m\u001b[0;39m38928341\u001b[0m\u001b[1;39m,\n",
            "    \u001b[0m\u001b[34;1m\"loc\"\u001b[0m\u001b[1;39m: \u001b[0m\u001b[1;39m{\n",
            "      \u001b[0m\u001b[34;1m\"type\"\u001b[0m\u001b[1;39m: \u001b[0m\u001b[0;32m\"Point\"\u001b[0m\u001b[1;39m,\n",
            "      \u001b[0m\u001b[34;1m\"coordinates\"\u001b[0m\u001b[1;39m: \u001b[0m\u001b[1;39m[\n",
            "        \u001b[0;39m67.71\u001b[0m\u001b[1;39m,\n",
            "        \u001b[0;39m33.9391\u001b[0m\u001b[1;39m\n",
            "      \u001b[1;39m]\u001b[0m\u001b[1;39m\n",
            "    \u001b[1;39m}\u001b[0m\u001b[1;39m,\n",
            "    \u001b[0m\u001b[34;1m\"confirmed\"\u001b[0m\u001b[1;39m: \u001b[0m\u001b[0;39m0\u001b[0m\u001b[1;39m,\n",
            "    \u001b[0m\u001b[34;1m\"deaths\"\u001b[0m\u001b[1;39m: \u001b[0m\u001b[0;39m0\u001b[0m\u001b[1;39m,\n",
            "    \u001b[0m\u001b[34;1m\"recovered\"\u001b[0m\u001b[1;39m: \u001b[0m\u001b[0;39m0\u001b[0m\u001b[1;39m\n",
            "  \u001b[1;39m}\u001b[0m\u001b[1;39m\n",
            "\u001b[1;39m]\u001b[0m\n"
          ],
          "name": "stdout"
        }
      ]
    },
    {
      "cell_type": "code",
      "metadata": {
        "colab": {
          "base_uri": "https://localhost:8080/"
        },
        "id": "ipS-otkcTaBp",
        "outputId": "ece60f1c-c1cd-4dad-b633-a1a55856ab6f"
      },
      "source": [
        "! cat covid.json | jq '.measures | length'  # В массиве 1000 элементов"
      ],
      "execution_count": null,
      "outputs": [
        {
          "output_type": "stream",
          "text": [
            "\u001b[0;39m1000\u001b[0m\n"
          ],
          "name": "stdout"
        }
      ]
    },
    {
      "cell_type": "code",
      "metadata": {
        "colab": {
          "base_uri": "https://localhost:8080/"
        },
        "id": "Z9ceGNe4TaBq",
        "outputId": "0696844f-1ab4-44b7-846c-601b022b0b13"
      },
      "source": [
        "! cat covid.json | jq '.measures[0:200] | .[].confirmed'"
      ],
      "execution_count": null,
      "outputs": [
        {
          "output_type": "stream",
          "text": [
            "\u001b[0;39m0\u001b[0m\n",
            "\u001b[0;39m0\u001b[0m\n",
            "\u001b[0;39m0\u001b[0m\n",
            "\u001b[0;39m0\u001b[0m\n",
            "\u001b[0;39m0\u001b[0m\n",
            "\u001b[0;39m0\u001b[0m\n",
            "\u001b[0;39m0\u001b[0m\n",
            "\u001b[0;39m0\u001b[0m\n",
            "\u001b[0;39m0\u001b[0m\n",
            "\u001b[0;39m0\u001b[0m\n",
            "\u001b[0;39m0\u001b[0m\n",
            "\u001b[0;39m0\u001b[0m\n",
            "\u001b[0;39m0\u001b[0m\n",
            "\u001b[0;39m0\u001b[0m\n",
            "\u001b[0;39m0\u001b[0m\n",
            "\u001b[0;39m0\u001b[0m\n",
            "\u001b[0;39m0\u001b[0m\n",
            "\u001b[0;39m0\u001b[0m\n",
            "\u001b[0;39m0\u001b[0m\n",
            "\u001b[0;39m0\u001b[0m\n",
            "\u001b[0;39m1\u001b[0m\n",
            "\u001b[0;39m1\u001b[0m\n",
            "\u001b[0;39m1\u001b[0m\n",
            "\u001b[0;39m1\u001b[0m\n",
            "\u001b[0;39m1\u001b[0m\n",
            "\u001b[0;39m7\u001b[0m\n",
            "\u001b[0;39m7\u001b[0m\n",
            "\u001b[0;39m7\u001b[0m\n",
            "\u001b[0;39m11\u001b[0m\n",
            "\u001b[0;39m16\u001b[0m\n",
            "\u001b[0;39m21\u001b[0m\n",
            "\u001b[0;39m22\u001b[0m\n",
            "\u001b[0;39m22\u001b[0m\n",
            "\u001b[0;39m22\u001b[0m\n",
            "\u001b[0;39m24\u001b[0m\n",
            "\u001b[0;39m24\u001b[0m\n",
            "\u001b[0;39m40\u001b[0m\n",
            "\u001b[0;39m40\u001b[0m\n",
            "\u001b[0;39m94\u001b[0m\n",
            "\u001b[0;39m110\u001b[0m\n",
            "\u001b[0;39m110\u001b[0m\n",
            "\u001b[0;39m273\u001b[0m\n",
            "\u001b[0;39m281\u001b[0m\n",
            "\u001b[0;39m299\u001b[0m\n",
            "\u001b[0;39m349\u001b[0m\n",
            "\u001b[0;39m367\u001b[0m\n",
            "\u001b[0;39m423\u001b[0m\n",
            "\u001b[0;39m444\u001b[0m\n",
            "\u001b[0;39m484\u001b[0m\n",
            "\u001b[0;39m521\u001b[0m\n",
            "\u001b[0;39m607\u001b[0m\n",
            "\u001b[0;39m714\u001b[0m\n",
            "\u001b[0;39m1828\u001b[0m\n",
            "\u001b[0;39m2171\u001b[0m\n",
            "\u001b[0;39m2335\u001b[0m\n",
            "\u001b[0;39m2469\u001b[0m\n",
            "\u001b[0;39m2704\u001b[0m\n",
            "\u001b[0;39m2894\u001b[0m\n",
            "\u001b[0;39m3224\u001b[0m\n",
            "\u001b[0;39m3392\u001b[0m\n",
            "\u001b[0;39m3563\u001b[0m\n",
            "\u001b[0;39m3778\u001b[0m\n",
            "\u001b[0;39m4033\u001b[0m\n",
            "\u001b[0;39m4402\u001b[0m\n",
            "\u001b[0;39m4687\u001b[0m\n",
            "\u001b[0;39m4963\u001b[0m\n",
            "\u001b[0;39m5639\u001b[0m\n",
            "\u001b[0;39m6053\u001b[0m\n",
            "\u001b[0;39m6402\u001b[0m\n",
            "\u001b[0;39m6664\u001b[0m\n",
            "\u001b[0;39m7072\u001b[0m\n",
            "\u001b[0;39m7653\u001b[0m\n",
            "\u001b[0;39m8145\u001b[0m\n",
            "\u001b[0;39m8676\u001b[0m\n",
            "\u001b[0;39m9216\u001b[0m\n",
            "\u001b[0;39m9998\u001b[0m\n",
            "\u001b[0;39m10582\u001b[0m\n",
            "\u001b[0;39m11173\u001b[0m\n",
            "\u001b[0;39m11831\u001b[0m\n",
            "\u001b[0;39m13036\u001b[0m\n",
            "\u001b[0;39m15750\u001b[0m\n",
            "\u001b[0;39m16509\u001b[0m\n",
            "\u001b[0;39m18054\u001b[0m\n",
            "\u001b[0;39m18969\u001b[0m\n",
            "\u001b[0;39m19551\u001b[0m\n",
            "\u001b[0;39m20342\u001b[0m\n",
            "\u001b[0;39m20917\u001b[0m\n",
            "\u001b[0;39m21459\u001b[0m\n",
            "\u001b[0;39m22142\u001b[0m\n",
            "\u001b[0;39m22890\u001b[0m\n",
            "\u001b[0;39m23546\u001b[0m\n",
            "\u001b[0;39m24102\u001b[0m\n",
            "\u001b[0;39m24766\u001b[0m\n",
            "\u001b[0;39m25527\u001b[0m\n",
            "\u001b[0;39m26310\u001b[0m\n",
            "\u001b[0;39m26874\u001b[0m\n",
            "\u001b[0;39m27532\u001b[0m\n",
            "\u001b[0;39m27878\u001b[0m\n",
            "\u001b[0;39m28424\u001b[0m\n",
            "\u001b[0;39m33190\u001b[0m\n",
            "\u001b[0;39m33384\u001b[0m\n",
            "\u001b[0;39m33908\u001b[0m\n",
            "\u001b[0;39m0\u001b[0m\n",
            "\u001b[0;39m0\u001b[0m\n",
            "\u001b[0;39m0\u001b[0m\n",
            "\u001b[0;39m0\u001b[0m\n",
            "\u001b[0;39m0\u001b[0m\n",
            "\u001b[0;39m0\u001b[0m\n",
            "\u001b[0;39m0\u001b[0m\n",
            "\u001b[0;39m0\u001b[0m\n",
            "\u001b[0;39m0\u001b[0m\n",
            "\u001b[0;39m42\u001b[0m\n",
            "\u001b[0;39m51\u001b[0m\n",
            "\u001b[0;39m55\u001b[0m\n",
            "\u001b[0;39m59\u001b[0m\n",
            "\u001b[0;39m64\u001b[0m\n",
            "\u001b[0;39m70\u001b[0m\n",
            "\u001b[0;39m76\u001b[0m\n",
            "\u001b[0;39m89\u001b[0m\n",
            "\u001b[0;39m104\u001b[0m\n",
            "\u001b[0;39m123\u001b[0m\n",
            "\u001b[0;39m146\u001b[0m\n",
            "\u001b[0;39m174\u001b[0m\n",
            "\u001b[0;39m186\u001b[0m\n",
            "\u001b[0;39m197\u001b[0m\n",
            "\u001b[0;39m212\u001b[0m\n",
            "\u001b[0;39m475\u001b[0m\n",
            "\u001b[0;39m518\u001b[0m\n",
            "\u001b[0;39m539\u001b[0m\n",
            "\u001b[0;39m548\u001b[0m\n",
            "\u001b[0;39m562\u001b[0m\n",
            "\u001b[0;39m584\u001b[0m\n",
            "\u001b[0;39m609\u001b[0m\n",
            "\u001b[0;39m782\u001b[0m\n",
            "\u001b[0;39m795\u001b[0m\n",
            "\u001b[0;39m820\u001b[0m\n",
            "\u001b[0;39m832\u001b[0m\n",
            "\u001b[0;39m842\u001b[0m\n",
            "\u001b[0;39m850\u001b[0m\n",
            "\u001b[0;39m856\u001b[0m\n",
            "\u001b[0;39m868\u001b[0m\n",
            "\u001b[0;39m872\u001b[0m\n",
            "\u001b[0;39m1122\u001b[0m\n",
            "\u001b[0;39m1143\u001b[0m\n",
            "\u001b[0;39m1788\u001b[0m\n",
            "\u001b[0;39m1891\u001b[0m\n",
            "\u001b[0;39m2114\u001b[0m\n",
            "\u001b[0;39m2819\u001b[0m\n",
            "\u001b[0;39m2893\u001b[0m\n",
            "\u001b[0;39m2964\u001b[0m\n",
            "\u001b[0;39m3038\u001b[0m\n",
            "\u001b[0;39m3106\u001b[0m\n",
            "\u001b[0;39m3188\u001b[0m\n",
            "\u001b[0;39m3278\u001b[0m\n",
            "\u001b[0;39m0\u001b[0m\n",
            "\u001b[0;39m0\u001b[0m\n",
            "\u001b[0;39m0\u001b[0m\n",
            "\u001b[0;39m0\u001b[0m\n",
            "\u001b[0;39m0\u001b[0m\n",
            "\u001b[0;39m0\u001b[0m\n",
            "\u001b[0;39m0\u001b[0m\n",
            "\u001b[0;39m0\u001b[0m\n",
            "\u001b[0;39m0\u001b[0m\n",
            "\u001b[0;39m0\u001b[0m\n",
            "\u001b[0;39m1\u001b[0m\n",
            "\u001b[0;39m1\u001b[0m\n",
            "\u001b[0;39m1\u001b[0m\n",
            "\u001b[0;39m1\u001b[0m\n",
            "\u001b[0;39m1\u001b[0m\n",
            "\u001b[0;39m1\u001b[0m\n",
            "\u001b[0;39m3\u001b[0m\n",
            "\u001b[0;39m5\u001b[0m\n",
            "\u001b[0;39m12\u001b[0m\n",
            "\u001b[0;39m12\u001b[0m\n",
            "\u001b[0;39m17\u001b[0m\n",
            "\u001b[0;39m19\u001b[0m\n",
            "\u001b[0;39m54\u001b[0m\n",
            "\u001b[0;39m60\u001b[0m\n",
            "\u001b[0;39m74\u001b[0m\n",
            "\u001b[0;39m87\u001b[0m\n",
            "\u001b[0;39m90\u001b[0m\n",
            "\u001b[0;39m139\u001b[0m\n",
            "\u001b[0;39m201\u001b[0m\n",
            "\u001b[0;39m230\u001b[0m\n",
            "\u001b[0;39m264\u001b[0m\n",
            "\u001b[0;39m302\u001b[0m\n",
            "\u001b[0;39m367\u001b[0m\n",
            "\u001b[0;39m409\u001b[0m\n",
            "\u001b[0;39m511\u001b[0m\n",
            "\u001b[0;39m584\u001b[0m\n",
            "\u001b[0;39m716\u001b[0m\n",
            "\u001b[0;39m847\u001b[0m\n",
            "\u001b[0;39m0\u001b[0m\n",
            "\u001b[0;39m0\u001b[0m\n",
            "\u001b[0;39m0\u001b[0m\n",
            "\u001b[0;39m0\u001b[0m\n",
            "\u001b[0;39m0\u001b[0m\n",
            "\u001b[0;39m0\u001b[0m\n",
            "\u001b[0;39m0\u001b[0m\n",
            "\u001b[0;39m0\u001b[0m\n"
          ],
          "name": "stdout"
        }
      ]
    },
    {
      "cell_type": "code",
      "metadata": {
        "colab": {
          "base_uri": "https://localhost:8080/"
        },
        "id": "F6k7hqiRTaBq",
        "outputId": "79bf0200-e553-4bd6-e0fb-596faf3a5de9"
      },
      "source": [
        "! cat covid.json | jq '.measures[].country' | sort | uniq"
      ],
      "execution_count": null,
      "outputs": [
        {
          "output_type": "stream",
          "text": [
            "\"Afghanistan\"\n",
            "\"Albania\"\n",
            "\"Algeria\"\n",
            "\"Andorra\"\n",
            "\"Angola\"\n",
            "\"Antigua and Barbuda\"\n",
            "\"Argentina\"\n"
          ],
          "name": "stdout"
        }
      ]
    },
    {
      "cell_type": "code",
      "metadata": {
        "colab": {
          "base_uri": "https://localhost:8080/"
        },
        "id": "E7qTTwGMTaBq",
        "outputId": "4219dda1-93e0-4ba7-c936-6ecc2c95faa7"
      },
      "source": [
        "! cat covid.json | jq -r '.measures[].country' | sort | uniq"
      ],
      "execution_count": null,
      "outputs": [
        {
          "output_type": "stream",
          "text": [
            "Afghanistan\n",
            "Albania\n",
            "Algeria\n",
            "Andorra\n",
            "Angola\n",
            "Antigua and Barbuda\n",
            "Argentina\n"
          ],
          "name": "stdout"
        }
      ]
    },
    {
      "cell_type": "markdown",
      "metadata": {
        "id": "PpR7zCHDTaBq"
      },
      "source": [
        "С помощью jq можно фильтровать запросы. Для этого есть оператор select"
      ]
    },
    {
      "cell_type": "code",
      "metadata": {
        "colab": {
          "base_uri": "https://localhost:8080/"
        },
        "id": "SYKyW3w5TaBq",
        "outputId": "3b4beaed-69c6-46c3-d1f7-96d3dde3a8f1"
      },
      "source": [
        "! cat covid.json | jq '.measures[] | select(.country == \"Angola\")' | head -n 30"
      ],
      "execution_count": null,
      "outputs": [
        {
          "output_type": "stream",
          "text": [
            "{\n",
            "  \"uid\": 24,\n",
            "  \"country_iso2\": \"AO\",\n",
            "  \"country_iso3\": \"AGO\",\n",
            "  \"country_code\": 24,\n",
            "  \"country\": \"Angola\",\n",
            "  \"combined_name\": \"Angola\",\n",
            "  \"population\": 32866268,\n",
            "  \"loc\": {\n",
            "    \"type\": \"Point\",\n",
            "    \"coordinates\": [\n",
            "      17.8739,\n",
            "      -11.2027\n",
            "    ]\n",
            "  },\n",
            "  \"confirmed\": 0,\n",
            "  \"deaths\": 0,\n",
            "  \"recovered\": 0\n",
            "}\n",
            "{\n",
            "  \"uid\": 24,\n",
            "  \"country_iso2\": \"AO\",\n",
            "  \"country_iso3\": \"AGO\",\n",
            "  \"country_code\": 24,\n",
            "  \"country\": \"Angola\",\n",
            "  \"combined_name\": \"Angola\",\n",
            "  \"population\": 32866268,\n",
            "  \"loc\": {\n",
            "    \"type\": \"Point\",\n",
            "    \"coordinates\": [\n"
          ],
          "name": "stdout"
        }
      ]
    },
    {
      "cell_type": "code",
      "metadata": {
        "colab": {
          "base_uri": "https://localhost:8080/"
        },
        "id": "rJlSYO9ETaBq",
        "outputId": "916ebf7b-3f9f-4c5e-8aa4-47f887f2abc4"
      },
      "source": [
        "! cat covid.json | jq '.measures[] | select(.country == \"Angola\") | .confirmed'"
      ],
      "execution_count": null,
      "outputs": [
        {
          "output_type": "stream",
          "text": [
            "\u001b[0;39m0\u001b[0m\n",
            "\u001b[0;39m0\u001b[0m\n",
            "\u001b[0;39m0\u001b[0m\n",
            "\u001b[0;39m0\u001b[0m\n",
            "\u001b[0;39m0\u001b[0m\n",
            "\u001b[0;39m0\u001b[0m\n",
            "\u001b[0;39m0\u001b[0m\n",
            "\u001b[0;39m0\u001b[0m\n",
            "\u001b[0;39m0\u001b[0m\n",
            "\u001b[0;39m0\u001b[0m\n",
            "\u001b[0;39m0\u001b[0m\n",
            "\u001b[0;39m0\u001b[0m\n",
            "\u001b[0;39m0\u001b[0m\n",
            "\u001b[0;39m0\u001b[0m\n",
            "\u001b[0;39m0\u001b[0m\n",
            "\u001b[0;39m0\u001b[0m\n",
            "\u001b[0;39m0\u001b[0m\n",
            "\u001b[0;39m0\u001b[0m\n",
            "\u001b[0;39m0\u001b[0m\n",
            "\u001b[0;39m0\u001b[0m\n",
            "\u001b[0;39m0\u001b[0m\n",
            "\u001b[0;39m0\u001b[0m\n",
            "\u001b[0;39m0\u001b[0m\n",
            "\u001b[0;39m0\u001b[0m\n",
            "\u001b[0;39m1\u001b[0m\n",
            "\u001b[0;39m2\u001b[0m\n",
            "\u001b[0;39m2\u001b[0m\n",
            "\u001b[0;39m7\u001b[0m\n",
            "\u001b[0;39m7\u001b[0m\n",
            "\u001b[0;39m8\u001b[0m\n",
            "\u001b[0;39m8\u001b[0m\n",
            "\u001b[0;39m8\u001b[0m\n",
            "\u001b[0;39m10\u001b[0m\n",
            "\u001b[0;39m14\u001b[0m\n",
            "\u001b[0;39m17\u001b[0m\n",
            "\u001b[0;39m19\u001b[0m\n",
            "\u001b[0;39m19\u001b[0m\n",
            "\u001b[0;39m19\u001b[0m\n",
            "\u001b[0;39m19\u001b[0m\n",
            "\u001b[0;39m19\u001b[0m\n",
            "\u001b[0;39m19\u001b[0m\n",
            "\u001b[0;39m19\u001b[0m\n",
            "\u001b[0;39m24\u001b[0m\n",
            "\u001b[0;39m24\u001b[0m\n",
            "\u001b[0;39m24\u001b[0m\n",
            "\u001b[0;39m24\u001b[0m\n",
            "\u001b[0;39m25\u001b[0m\n",
            "\u001b[0;39m25\u001b[0m\n",
            "\u001b[0;39m25\u001b[0m\n",
            "\u001b[0;39m25\u001b[0m\n",
            "\u001b[0;39m26\u001b[0m\n",
            "\u001b[0;39m27\u001b[0m\n",
            "\u001b[0;39m27\u001b[0m\n",
            "\u001b[0;39m27\u001b[0m\n",
            "\u001b[0;39m30\u001b[0m\n",
            "\u001b[0;39m35\u001b[0m\n",
            "\u001b[0;39m35\u001b[0m\n",
            "\u001b[0;39m35\u001b[0m\n",
            "\u001b[0;39m36\u001b[0m\n",
            "\u001b[0;39m36\u001b[0m\n",
            "\u001b[0;39m36\u001b[0m\n",
            "\u001b[0;39m43\u001b[0m\n",
            "\u001b[0;39m43\u001b[0m\n",
            "\u001b[0;39m45\u001b[0m\n",
            "\u001b[0;39m45\u001b[0m\n",
            "\u001b[0;39m45\u001b[0m\n",
            "\u001b[0;39m45\u001b[0m\n",
            "\u001b[0;39m48\u001b[0m\n",
            "\u001b[0;39m48\u001b[0m\n",
            "\u001b[0;39m48\u001b[0m\n",
            "\u001b[0;39m48\u001b[0m\n",
            "\u001b[0;39m84\u001b[0m\n",
            "\u001b[0;39m86\u001b[0m\n",
            "\u001b[0;39m86\u001b[0m\n",
            "\u001b[0;39m86\u001b[0m\n",
            "\u001b[0;39m86\u001b[0m\n",
            "\u001b[0;39m86\u001b[0m\n",
            "\u001b[0;39m176\u001b[0m\n",
            "\u001b[0;39m346\u001b[0m\n",
            "\u001b[0;39m346\u001b[0m\n",
            "\u001b[0;39m386\u001b[0m\n",
            "\u001b[0;39m386\u001b[0m\n",
            "\u001b[0;39m396\u001b[0m\n",
            "\u001b[0;39m458\u001b[0m\n",
            "\u001b[0;39m0\u001b[0m\n",
            "\u001b[0;39m0\u001b[0m\n",
            "\u001b[0;39m0\u001b[0m\n",
            "\u001b[0;39m0\u001b[0m\n",
            "\u001b[0;39m0\u001b[0m\n",
            "\u001b[0;39m0\u001b[0m\n",
            "\u001b[0;39m0\u001b[0m\n",
            "\u001b[0;39m0\u001b[0m\n",
            "\u001b[0;39m0\u001b[0m\n",
            "\u001b[0;39m0\u001b[0m\n",
            "\u001b[0;39m0\u001b[0m\n",
            "\u001b[0;39m0\u001b[0m\n",
            "\u001b[0;39m0\u001b[0m\n",
            "\u001b[0;39m0\u001b[0m\n",
            "\u001b[0;39m0\u001b[0m\n",
            "\u001b[0;39m0\u001b[0m\n",
            "\u001b[0;39m0\u001b[0m\n",
            "\u001b[0;39m0\u001b[0m\n",
            "\u001b[0;39m0\u001b[0m\n",
            "\u001b[0;39m0\u001b[0m\n",
            "\u001b[0;39m0\u001b[0m\n",
            "\u001b[0;39m0\u001b[0m\n",
            "\u001b[0;39m0\u001b[0m\n",
            "\u001b[0;39m0\u001b[0m\n",
            "\u001b[0;39m0\u001b[0m\n",
            "\u001b[0;39m0\u001b[0m\n",
            "\u001b[0;39m0\u001b[0m\n",
            "\u001b[0;39m0\u001b[0m\n",
            "\u001b[0;39m0\u001b[0m\n",
            "\u001b[0;39m0\u001b[0m\n",
            "\u001b[0;39m0\u001b[0m\n",
            "\u001b[0;39m0\u001b[0m\n",
            "\u001b[0;39m0\u001b[0m\n",
            "\u001b[0;39m0\u001b[0m\n",
            "\u001b[0;39m3\u001b[0m\n",
            "\u001b[0;39m3\u001b[0m\n",
            "\u001b[0;39m3\u001b[0m\n",
            "\u001b[0;39m4\u001b[0m\n",
            "\u001b[0;39m4\u001b[0m\n",
            "\u001b[0;39m5\u001b[0m\n",
            "\u001b[0;39m7\u001b[0m\n",
            "\u001b[0;39m16\u001b[0m\n",
            "\u001b[0;39m19\u001b[0m\n",
            "\u001b[0;39m19\u001b[0m\n",
            "\u001b[0;39m19\u001b[0m\n",
            "\u001b[0;39m27\u001b[0m\n",
            "\u001b[0;39m50\u001b[0m\n",
            "\u001b[0;39m52\u001b[0m\n",
            "\u001b[0;39m52\u001b[0m\n",
            "\u001b[0;39m58\u001b[0m\n",
            "\u001b[0;39m60\u001b[0m\n",
            "\u001b[0;39m61\u001b[0m\n",
            "\u001b[0;39m69\u001b[0m\n",
            "\u001b[0;39m70\u001b[0m\n",
            "\u001b[0;39m70\u001b[0m\n",
            "\u001b[0;39m71\u001b[0m\n",
            "\u001b[0;39m74\u001b[0m\n",
            "\u001b[0;39m81\u001b[0m\n",
            "\u001b[0;39m86\u001b[0m\n",
            "\u001b[0;39m88\u001b[0m\n",
            "\u001b[0;39m91\u001b[0m\n",
            "\u001b[0;39m92\u001b[0m\n",
            "\u001b[0;39m96\u001b[0m\n",
            "\u001b[0;39m113\u001b[0m\n",
            "\u001b[0;39m118\u001b[0m\n",
            "\u001b[0;39m130\u001b[0m\n",
            "\u001b[0;39m138\u001b[0m\n",
            "\u001b[0;39m140\u001b[0m\n",
            "\u001b[0;39m142\u001b[0m\n",
            "\u001b[0;39m148\u001b[0m\n",
            "\u001b[0;39m155\u001b[0m\n",
            "\u001b[0;39m166\u001b[0m\n",
            "\u001b[0;39m172\u001b[0m\n",
            "\u001b[0;39m183\u001b[0m\n",
            "\u001b[0;39m186\u001b[0m\n",
            "\u001b[0;39m189\u001b[0m\n",
            "\u001b[0;39m197\u001b[0m\n",
            "\u001b[0;39m212\u001b[0m\n",
            "\u001b[0;39m212\u001b[0m\n",
            "\u001b[0;39m259\u001b[0m\n",
            "\u001b[0;39m267\u001b[0m\n",
            "\u001b[0;39m276\u001b[0m\n",
            "\u001b[0;39m284\u001b[0m\n",
            "\u001b[0;39m291\u001b[0m\n",
            "\u001b[0;39m315\u001b[0m\n",
            "\u001b[0;39m328\u001b[0m\n",
            "\u001b[0;39m346\u001b[0m\n"
          ],
          "name": "stdout"
        }
      ]
    },
    {
      "cell_type": "markdown",
      "metadata": {
        "id": "LGue1XKzTaBq"
      },
      "source": [
        "### Archives\n",
        "Очень часто данные хранятся в виде архивов. Команды tar и zip\\unzip позволяют распаковывать архивы.\n",
        "\n",
        "tar имеет целый набор однобуквенных ключей, комбинация которых позволяет производить различные операции над архивами.\n",
        "\n",
        "`c` - создать архив\n",
        "\n",
        "`x` - распаковать архив\n",
        "\n",
        "`z` - использовать алгоритм gzip. Архивы, созданные с таким алгоритмом, имеют расширение .tar.gz\n",
        "\n",
        "`v` - печатать на экран детали распаковки\n",
        "\n",
        "`f` - считать архив из указанного файла\n",
        "\n",
        "zip\\unzip работает немного проще. Команда zip создает новый архив, команда unzip распаковывает указанный архив.\n",
        "\n",
        "Подробнее можно узнать здесь - https://www.opennet.ru/man.shtml?topic=tar&category=1 и здесь - https://www.opennet.ru/man.shtml?topic=unzip&category=1&russian=4"
      ]
    },
    {
      "cell_type": "code",
      "metadata": {
        "colab": {
          "base_uri": "https://localhost:8080/"
        },
        "id": "-pzmrMFfTaBr",
        "outputId": "b03ade9b-b0c4-472a-d384-93b0fe953e61"
      },
      "source": [
        "# Создадим архив из файла cities\n",
        "! tar -czvf grades.tar.gz grades.csv"
      ],
      "execution_count": null,
      "outputs": [
        {
          "output_type": "stream",
          "text": [
            "grades.csv\n"
          ],
          "name": "stdout"
        }
      ]
    },
    {
      "cell_type": "code",
      "metadata": {
        "colab": {
          "base_uri": "https://localhost:8080/"
        },
        "id": "F02rZhHATaBr",
        "outputId": "2d241409-4968-4d61-8a58-cbf6e4fd35a7"
      },
      "source": [
        "! head -n 2 grades.tar.gz"
      ],
      "execution_count": null,
      "outputs": [
        {
          "output_type": "stream",
          "text": [
            "\u001f�\b\u0000�+�`\u0000\u0003�]o�0\u0014��ޯ�|���c��\u0012蠛�^��\u000fp��\u0011� 'P���\u001f9!$b�&UӤ�(R�M����=�Y˵�oV�i�a��D\bw7\f�<dl�X,X�c\u0016�\u0019ǜM���R:s�\u001b��`�����s����B~Ⱥ\tJ�W�K@\u0016��\u001e\u001e�ͭ�<��av�\u0006\u0011\u0004\u001c\u0002��/��\u0006Kk+�Lw\u001bi.'c\u0006�[]\u001ck?b\u0011�\"�I��fB�7�[+o\u0003\u0016�L��@�> ��Kk��\t�_eqR�.�7���f����J0�N!H�3\"\u0003��Fz��\u0013r�f+���Q��4�ih���\u0019$�@�mH�Vzn�.׺*|���N�\u001a]��(�R��T��VYD��\u0011�C�\"��͞�l=f��a[�^lѕƎD��4����J�b�A�\u0010��`\r2��?�OO;Ֆz���8\u00011%�N=\u000f��\u0018��0݌H�\u001eV���_��Vz�VŮ���\u001d�ڡ+\b�A�)\u0004\u0001�\n",
            ";#\u000bW�ͦӚ\u0015���\u0013\u001e�4�yΝ���\u0011��G�\u0018�Pj�i�\u000f�ڭ�͑�W�Gt�j�X�&\u001b�alo2�I�նm��|/�����05\u001cY���&=��4I�]kOuӓ���z�\u0016C�����r+�u�/�Y[W�gW�C���&s+mz��\"K�-���a\u0000�f����u{��YhYnw�c���r��Ȼ\u001a\u000e|�c{{饪�s�0�[/��ռu�H�����(ߩ���z�;�O�+<�Z8W��u{�Oӿ�#B\u0010\u0004A\u0010\u0004A\u0010\u0004A\u0010\u0004A\u0010\u0004A\u0010\u0004A\u0010\u0004A\u0010��\r\u001b\u0013e�\u0000(\u0000\u0000"
          ],
          "name": "stdout"
        }
      ]
    },
    {
      "cell_type": "code",
      "metadata": {
        "colab": {
          "base_uri": "https://localhost:8080/"
        },
        "id": "PafenzahTaBr",
        "outputId": "07d8fe0e-7bec-4f81-a296-521a5704945c"
      },
      "source": [
        "# Распакуем этот архив в новую директорию tar-grades\n",
        "! mkdir -p tar-grades && tar -xzvf grades.tar.gz -C tar-grades/"
      ],
      "execution_count": null,
      "outputs": [
        {
          "output_type": "stream",
          "text": [
            "grades.csv\n"
          ],
          "name": "stdout"
        }
      ]
    },
    {
      "cell_type": "code",
      "metadata": {
        "colab": {
          "base_uri": "https://localhost:8080/"
        },
        "id": "tTt4AMK7TaBr",
        "outputId": "08cb9897-8f99-44a4-e9cc-16637b01e380"
      },
      "source": [
        "! ls tar-grades/"
      ],
      "execution_count": null,
      "outputs": [
        {
          "output_type": "stream",
          "text": [
            "grades.csv\n"
          ],
          "name": "stdout"
        }
      ]
    },
    {
      "cell_type": "code",
      "metadata": {
        "colab": {
          "base_uri": "https://localhost:8080/"
        },
        "id": "TyQNYEFXTaBr",
        "outputId": "88ff8c19-4584-4ae1-e299-e4f2acb56ea4"
      },
      "source": [
        "! head tar-grades/grades.csv"
      ],
      "execution_count": null,
      "outputs": [
        {
          "output_type": "stream",
          "text": [
            "\"Last name\", \"First name\", \"SSN\",        \"Test1\", \"Test2\", \"Test3\", \"Test4\", \"Final\", \"Grade\"\n",
            "\"Alfalfa\",   \"Aloysius\",   \"123-45-6789\", 40.0,    90.0,   100.0,    83.0,    49.0,   \"D-\"\n",
            "\"Alfred\",    \"University\", \"123-12-1234\", 41.0,    97.0,    96.0,    97.0,    48.0,   \"D+\"\n",
            "\"Gerty\",     \"Gramma\",     \"567-89-0123\", 41.0,    80.0,    60.0,    40.0,    44.0,   \"C\"\n",
            "\"Android\",   \"Electric\",   \"087-65-4321\", 42.0,    23.0,    36.0,    45.0,    47.0,   \"B-\"\n",
            "\"Bumpkin\",   \"Fred\",       \"456-78-9012\", 43.0,    78.0,    88.0,    77.0,    45.0,   \"A-\"\n",
            "\"Rubble\",    \"Betty\",      \"234-56-7890\", 44.0,    90.0,    80.0,    90.0,    46.0,   \"C-\"\n",
            "\"Noshow\",    \"Cecil\",      \"345-67-8901\", 45.0,    11.0,    -1.0,     4.0,    43.0,   \"F\"\n",
            "\"Buff\",      \"Bif\",        \"632-79-9939\", 46.0,    20.0,    30.0,    40.0,    50.0,   \"B+\"\n",
            "\"Airpump\",   \"Andrew\",     \"223-45-6789\", 49.0      1.0,    90.0,   100.0,    83.0,   \"A\"\n"
          ],
          "name": "stdout"
        }
      ]
    },
    {
      "cell_type": "code",
      "metadata": {
        "id": "7UxwHTAGTaBr"
      },
      "source": [],
      "execution_count": null,
      "outputs": []
    },
    {
      "cell_type": "code",
      "metadata": {
        "colab": {
          "base_uri": "https://localhost:8080/"
        },
        "id": "SC_1bDMOTaBr",
        "outputId": "01b8e47f-a5cd-42b0-a229-2caaf8bb1cd4"
      },
      "source": [
        "! apt-get install zip -y"
      ],
      "execution_count": null,
      "outputs": [
        {
          "output_type": "stream",
          "text": [
            "Reading package lists... Done\n",
            "Building dependency tree       \n",
            "Reading state information... Done\n",
            "zip is already the newest version (3.0-11build1).\n",
            "The following package was automatically installed and is no longer required:\n",
            "  libnvidia-common-460\n",
            "Use 'apt autoremove' to remove it.\n",
            "0 upgraded, 0 newly installed, 0 to remove and 72 not upgraded.\n"
          ],
          "name": "stdout"
        }
      ]
    },
    {
      "cell_type": "code",
      "metadata": {
        "colab": {
          "base_uri": "https://localhost:8080/"
        },
        "id": "0SDTlfBpTaBs",
        "outputId": "b82b1f77-1337-4b3f-9402-ce008a0b09bb"
      },
      "source": [
        "# Сделаем точно тоже самое, но с помощью zip\\unzip\n",
        "! zip grades.zip grades.csv"
      ],
      "execution_count": null,
      "outputs": [
        {
          "output_type": "stream",
          "text": [
            "  adding: grades.csv (deflated 64%)\n"
          ],
          "name": "stdout"
        }
      ]
    },
    {
      "cell_type": "code",
      "metadata": {
        "colab": {
          "base_uri": "https://localhost:8080/"
        },
        "id": "cIIY0X4ETaBs",
        "outputId": "2890e08b-f7f4-40ca-e6d7-363950c5c6a0"
      },
      "source": [
        "! head -n 2 grades.zip"
      ],
      "execution_count": null,
      "outputs": [
        {
          "output_type": "stream",
          "text": [
            "PK\u0003\u0004\u0014\u0000\u0000\u0000\b\u0000h�u>a')�+\u0002\u0000\u0000\t\u0006\u0000\u0000\n",
            "\u0000\u001c\u0000grades.csvUT\t\u0000\u0003C��M�(�`ux\u000b\u0000\u0001\u0004\u0000\u0000\u0000\u0000\u0004\u0000\u0000\u0000\u0000��ݎ�0\u0010���\u0014ȷ�+�\u0006�%d�l�j/��\u0003x\u0013ӵ�OdȮ����x\t\b5Bʌ%����\u0001���\u0014��\u0013�K��Rͺ��'���\u0018��,�\"��@A��=oMqP�$�'T�\r׏���p\u001b�ut]�\u0012L3����\u000b4�\u001a۽J_$1�\u0014�\u0017�t\u0005z�NZ��3����M�QN7���NR�\u0010�& ͠ȗ+�\u0000��Z� �\u0015���(]ǡ�r��\u0012�Z{.]��\u001c�p J��Θ�Oj��5�֊���uq�p�aJR�2M��)���i�A�ݣ��Q_��Y�Nl\u001f�1\u001d�r�\n"
          ],
          "name": "stdout"
        }
      ]
    },
    {
      "cell_type": "code",
      "metadata": {
        "colab": {
          "base_uri": "https://localhost:8080/"
        },
        "id": "XCRT-vf9TaBs",
        "outputId": "0ff711a1-d394-4c8d-efb6-d2180e24e42f"
      },
      "source": [
        "! mkdir -p zip-grades && yes | unzip grades.zip -d zip-grades/"
      ],
      "execution_count": null,
      "outputs": [
        {
          "output_type": "stream",
          "text": [
            "Archive:  grades.zip\n",
            "  inflating: zip-grades/grades.csv   \n"
          ],
          "name": "stdout"
        }
      ]
    },
    {
      "cell_type": "code",
      "metadata": {
        "colab": {
          "base_uri": "https://localhost:8080/"
        },
        "id": "DiaP8DiuTaBs",
        "outputId": "134c9f9b-c432-4962-add7-1271eca964f8"
      },
      "source": [
        "! ls zip-grades/"
      ],
      "execution_count": null,
      "outputs": [
        {
          "output_type": "stream",
          "text": [
            "grades.csv\n"
          ],
          "name": "stdout"
        }
      ]
    },
    {
      "cell_type": "code",
      "metadata": {
        "colab": {
          "base_uri": "https://localhost:8080/"
        },
        "id": "d1MWusNmTaBs",
        "outputId": "3ec63b0c-d75a-4bfc-cf45-986400730015"
      },
      "source": [
        "! head zip-grades/grades.csv"
      ],
      "execution_count": null,
      "outputs": [
        {
          "output_type": "stream",
          "text": [
            "\"Last name\", \"First name\", \"SSN\",        \"Test1\", \"Test2\", \"Test3\", \"Test4\", \"Final\", \"Grade\"\n",
            "\"Alfalfa\",   \"Aloysius\",   \"123-45-6789\", 40.0,    90.0,   100.0,    83.0,    49.0,   \"D-\"\n",
            "\"Alfred\",    \"University\", \"123-12-1234\", 41.0,    97.0,    96.0,    97.0,    48.0,   \"D+\"\n",
            "\"Gerty\",     \"Gramma\",     \"567-89-0123\", 41.0,    80.0,    60.0,    40.0,    44.0,   \"C\"\n",
            "\"Android\",   \"Electric\",   \"087-65-4321\", 42.0,    23.0,    36.0,    45.0,    47.0,   \"B-\"\n",
            "\"Bumpkin\",   \"Fred\",       \"456-78-9012\", 43.0,    78.0,    88.0,    77.0,    45.0,   \"A-\"\n",
            "\"Rubble\",    \"Betty\",      \"234-56-7890\", 44.0,    90.0,    80.0,    90.0,    46.0,   \"C-\"\n",
            "\"Noshow\",    \"Cecil\",      \"345-67-8901\", 45.0,    11.0,    -1.0,     4.0,    43.0,   \"F\"\n",
            "\"Buff\",      \"Bif\",        \"632-79-9939\", 46.0,    20.0,    30.0,    40.0,    50.0,   \"B+\"\n",
            "\"Airpump\",   \"Andrew\",     \"223-45-6789\", 49.0      1.0,    90.0,   100.0,    83.0,   \"A\"\n"
          ],
          "name": "stdout"
        }
      ]
    },
    {
      "cell_type": "code",
      "metadata": {
        "id": "gOySpwkkTaBs"
      },
      "source": [],
      "execution_count": null,
      "outputs": []
    },
    {
      "cell_type": "markdown",
      "metadata": {
        "id": "jqHmRjsGTaBs"
      },
      "source": [
        "Также достаточно популярен формат архивов `7z`. Чтобы начать работать с ним, необходимо поставить дополнительно специальный пакет - `apt-get install p7zip-full`.\n"
      ]
    },
    {
      "cell_type": "code",
      "metadata": {
        "colab": {
          "base_uri": "https://localhost:8080/"
        },
        "id": "Ebi_mIb5TaBt",
        "outputId": "26aacdf0-deda-4498-eb7c-720f47871154"
      },
      "source": [
        "! apt-get update && apt-get install p7zip-full -y"
      ],
      "execution_count": null,
      "outputs": [
        {
          "output_type": "stream",
          "text": [
            "\r0% [Working]\r            \rHit:1 https://cloud.r-project.org/bin/linux/ubuntu bionic-cran40/ InRelease\n",
            "\r0% [Connecting to archive.ubuntu.com] [Connecting to security.ubuntu.com (91.18\r0% [1 InRelease gpgv 3,626 B] [Connecting to archive.ubuntu.com] [Waiting for h\r                                                                               \rIgn:2 https://developer.download.nvidia.com/compute/cuda/repos/ubuntu1804/x86_64  InRelease\n",
            "\r0% [1 InRelease gpgv 3,626 B] [Connecting to archive.ubuntu.com] [Waiting for h\r                                                                               \rIgn:3 https://developer.download.nvidia.com/compute/machine-learning/repos/ubuntu1804/x86_64  InRelease\n",
            "\r0% [1 InRelease gpgv 3,626 B] [Connecting to archive.ubuntu.com] [Waiting for h\r                                                                               \rHit:4 http://security.ubuntu.com/ubuntu bionic-security InRelease\n",
            "\r0% [1 InRelease gpgv 3,626 B] [Connecting to archive.ubuntu.com] [Connecting to\r                                                                               \rHit:5 https://developer.download.nvidia.com/compute/cuda/repos/ubuntu1804/x86_64  Release\n",
            "Hit:6 https://developer.download.nvidia.com/compute/machine-learning/repos/ubuntu1804/x86_64  Release\n",
            "Hit:7 http://ppa.launchpad.net/c2d4u.team/c2d4u4.0+/ubuntu bionic InRelease\n",
            "Hit:8 http://archive.ubuntu.com/ubuntu bionic InRelease\n",
            "Hit:9 http://archive.ubuntu.com/ubuntu bionic-updates InRelease\n",
            "Hit:10 http://ppa.launchpad.net/cran/libgit2/ubuntu bionic InRelease\n",
            "Hit:11 http://archive.ubuntu.com/ubuntu bionic-backports InRelease\n",
            "Hit:13 http://ppa.launchpad.net/deadsnakes/ppa/ubuntu bionic InRelease\n",
            "Hit:15 http://ppa.launchpad.net/graphics-drivers/ppa/ubuntu bionic InRelease\n",
            "Reading package lists... Done\n",
            "Reading package lists... Done\n",
            "Building dependency tree       \n",
            "Reading state information... Done\n",
            "p7zip-full is already the newest version (16.02+dfsg-6).\n",
            "The following package was automatically installed and is no longer required:\n",
            "  libnvidia-common-460\n",
            "Use 'apt autoremove' to remove it.\n",
            "0 upgraded, 0 newly installed, 0 to remove and 72 not upgraded.\n"
          ],
          "name": "stdout"
        }
      ]
    },
    {
      "cell_type": "code",
      "metadata": {
        "colab": {
          "base_uri": "https://localhost:8080/"
        },
        "id": "wkNo7e2KTaBt",
        "outputId": "32b4a028-d3ae-42c5-a49a-81fac707db93"
      },
      "source": [
        "! 7z a grades.7z grades.csv  # Создаем архив"
      ],
      "execution_count": null,
      "outputs": [
        {
          "output_type": "stream",
          "text": [
            "\n",
            "7-Zip [64] 16.02 : Copyright (c) 1999-2016 Igor Pavlov : 2016-05-21\n",
            "p7zip Version 16.02 (locale=en_US.UTF-8,Utf16=on,HugeFiles=on,64 bits,2 CPUs Intel(R) Xeon(R) CPU @ 2.20GHz (406F0),ASM,AES-NI)\n",
            "\n",
            "Scanning the drive:\n",
            "  0M Scan \b\b\b\b\b\b\b\b\b\b          \b\b\b\b\b\b\b\b\b\b1 file, 1545 bytes (2 KiB)\n",
            "\n",
            "Creating archive: grades.7z\n",
            "\n",
            "Items to compress: 1\n",
            "\n",
            "  0%\b\b\b\b    \b\b\b\b\n",
            "Files read from disk: 1\n",
            "Archive size: 651 bytes (1 KiB)\n",
            "Everything is Ok\n"
          ],
          "name": "stdout"
        }
      ]
    },
    {
      "cell_type": "code",
      "metadata": {
        "colab": {
          "base_uri": "https://localhost:8080/"
        },
        "id": "bc2a0uqsTaBt",
        "outputId": "14df9bad-6649-4dd8-98e6-61ef21c333d0"
      },
      "source": [
        "! head -n 2 grades.7z"
      ],
      "execution_count": null,
      "outputs": [
        {
          "output_type": "stream",
          "text": [
            "7z��'\u001c\u0000\u0004\u001bL>\t\u0002\u0000\u0000\u0000\u0000\u0000\u0000b\u0000\u0000\u0000\u0000\u0000\u0000\u0000�?c@�\u0006\b\u0002\u0001]\u0000\u0011\u0013\b'3�����'\n",
            "�y4P�V4\r��\u0010\bt\u0003)�\u0005�-(�u\u001e� \"1b\u001bc\u0001���\u0004�'\u0016<�\u0018��e_�F�|C�'@|��\u0013�ݪ�B�\u001a�ϛ�v�����\u0014�3\u0016�O��ާ�\u0003�}�H\u0000��+\u0018�Wʎ��� gA���\u0010��\b���c�^�\u0005��y=��\u0003\u001575+p�Yj�&WS76\u001c��\u000b\u0018\u0014�?�G��W��I�e\u0018\b�֞j�\u0011\u0011UYU��X\u0019GER�\t�|���\u0017�Ez�\u0013u\u0002�ߏdyo\\�N��\u001e�m�f�z��.P��*\u001c�⎈�����\u0015\u001f\u000b��\u0014Y\u0011�!����\u0000�����7��5�3�Я\u0012G���\u001d��\u0003\u001b'��5��s�f�D`��m3\u0001��O\u0017\"P��o3�'Ǖ�\u000f�\u0003AP�\u0001��R�!�8���O+Vӽ�i���Z��\f���_�\u0012�޷�|���V��aI�r�\u0017�ĝ���c��3\u001d�ܐ��HH&}�0��\u0000Y\bر\u0003�\u000f��\u0019�8���a��O.#\u0006m:�\b�\u0004(�Q\u0000����\u001aL{{�u^�\\�r��X�%��¹!t}���\u0000�ȿ�$�vY!(�N�\u001f�}�\n"
          ],
          "name": "stdout"
        }
      ]
    },
    {
      "cell_type": "code",
      "metadata": {
        "colab": {
          "base_uri": "https://localhost:8080/"
        },
        "id": "wXER5FLdTaBt",
        "outputId": "46caa552-241e-475f-f070-4de1fd3d81fb"
      },
      "source": [
        "! mkdir -p 7z-grades && 7z x grades.7z -o7z-grades/  #  Распаковываем"
      ],
      "execution_count": null,
      "outputs": [
        {
          "output_type": "stream",
          "text": [
            "\n",
            "7-Zip [64] 16.02 : Copyright (c) 1999-2016 Igor Pavlov : 2016-05-21\n",
            "p7zip Version 16.02 (locale=en_US.UTF-8,Utf16=on,HugeFiles=on,64 bits,2 CPUs Intel(R) Xeon(R) CPU @ 2.20GHz (406F0),ASM,AES-NI)\n",
            "\n",
            "Scanning the drive for archives:\n",
            "  0M Scan\b\b\b\b\b\b\b\b\b         \b\b\b\b\b\b\b\b\b1 file, 651 bytes (1 KiB)\n",
            "\n",
            "Extracting archive: grades.7z\n",
            "--\n",
            "Path = grades.7z\n",
            "Type = 7z\n",
            "Physical Size = 651\n",
            "Headers Size = 130\n",
            "Method = LZMA2:12\n",
            "Solid = -\n",
            "Blocks = 1\n",
            "\n",
            "  0%\b\b\b\b    \b\b\b\bEverything is Ok\n",
            "\n",
            "Size:       1545\n",
            "Compressed: 651\n"
          ],
          "name": "stdout"
        }
      ]
    },
    {
      "cell_type": "code",
      "metadata": {
        "colab": {
          "base_uri": "https://localhost:8080/"
        },
        "id": "DUDhIEtqTaBt",
        "outputId": "45709d7b-c297-436a-82bf-e10b27363907"
      },
      "source": [
        "! ls 7z-grades/"
      ],
      "execution_count": null,
      "outputs": [
        {
          "output_type": "stream",
          "text": [
            "grades.csv\n"
          ],
          "name": "stdout"
        }
      ]
    },
    {
      "cell_type": "markdown",
      "metadata": {
        "id": "gkpNwnBtTaBt"
      },
      "source": [
        "### Networking\n",
        "wget и curl позволяют выгружать данные из интернета.\n",
        "\n",
        "wget более продвинутый - он умеет скачивать сразу множество файлов, поддерживает докачку файлов и так далее. curl более простой и может использоваться скорее для точечных запросов.\n",
        "\n",
        "Подробнее можно узнать здесь - https://www.opennet.ru/man.shtml?topic=wget&category=1&russian=0 и здесь - https://www.opennet.ru/man.shtml?topic=curl&category=1&russian=3\n",
        "\n"
      ]
    },
    {
      "cell_type": "code",
      "metadata": {
        "colab": {
          "base_uri": "https://localhost:8080/"
        },
        "id": "7UC2fLJtTaBt",
        "outputId": "d9df9589-3bdf-478e-ae10-eaca017ada50"
      },
      "source": [
        "! apt-get install curl -y"
      ],
      "execution_count": null,
      "outputs": [
        {
          "output_type": "stream",
          "text": [
            "Reading package lists... Done\n",
            "Building dependency tree       \n",
            "Reading state information... Done\n",
            "curl is already the newest version (7.58.0-2ubuntu3.13).\n",
            "The following package was automatically installed and is no longer required:\n",
            "  libnvidia-common-460\n",
            "Use 'apt autoremove' to remove it.\n",
            "0 upgraded, 0 newly installed, 0 to remove and 72 not upgraded.\n"
          ],
          "name": "stdout"
        }
      ]
    },
    {
      "cell_type": "code",
      "metadata": {
        "colab": {
          "base_uri": "https://localhost:8080/"
        },
        "id": "MOd40PLRTaBu",
        "outputId": "a6f764b3-be5e-4a00-8135-e59da6d9f682"
      },
      "source": [
        "! curl -L http://yandex.ru > yandex-curl.html"
      ],
      "execution_count": null,
      "outputs": [
        {
          "output_type": "stream",
          "text": [
            "  % Total    % Received % Xferd  Average Speed   Time    Time     Time  Current\n",
            "                                 Dload  Upload   Total   Spent    Left  Speed\n",
            "  0     0    0     0    0     0      0      0 --:--:-- --:--:-- --:--:--     0\n",
            "100  139k    0  139k    0     0  73557      0 --:--:--  0:00:01 --:--:--  267k\n"
          ],
          "name": "stdout"
        }
      ]
    },
    {
      "cell_type": "code",
      "metadata": {
        "colab": {
          "base_uri": "https://localhost:8080/"
        },
        "id": "TQxAP3NyTaBu",
        "outputId": "38415301-5ef2-46c0-e865-8d117cdc5d0e"
      },
      "source": [
        "! wget http://yandex.ru -O yandex-wget.html"
      ],
      "execution_count": null,
      "outputs": [
        {
          "output_type": "stream",
          "text": [
            "--2021-05-19 20:30:05--  http://yandex.ru/\n",
            "Resolving yandex.ru (yandex.ru)... 77.88.55.77, 5.255.255.80, 5.255.255.77, ...\n",
            "Connecting to yandex.ru (yandex.ru)|77.88.55.77|:80... connected.\n",
            "HTTP request sent, awaiting response... 302 Moved temporarily\n",
            "Location: https://yandex.ru/ [following]\n",
            "--2021-05-19 20:30:06--  https://yandex.ru/\n",
            "Connecting to yandex.ru (yandex.ru)|77.88.55.77|:443... connected.\n",
            "HTTP request sent, awaiting response... 200 Ok\n",
            "Length: unspecified [text/html]\n",
            "Saving to: ‘yandex-wget.html’\n",
            "\n",
            "yandex-wget.html        [   <=>              ] 134.52K   238KB/s    in 0.6s    \n",
            "\n",
            "2021-05-19 20:30:07 (238 KB/s) - ‘yandex-wget.html’ saved [137748]\n",
            "\n"
          ],
          "name": "stdout"
        }
      ]
    },
    {
      "cell_type": "code",
      "metadata": {
        "colab": {
          "base_uri": "https://localhost:8080/"
        },
        "id": "BHozrPBiTaBu",
        "outputId": "44b3bc3a-3e53-4f62-ebc3-4a2849e28a28"
      },
      "source": [
        "! head -c 100 yandex-curl.html"
      ],
      "execution_count": null,
      "outputs": [
        {
          "output_type": "stream",
          "text": [
            "<!DOCTYPE html><html class=\"i-ua_js_no i-ua_css_standart i-ua_browser_unknown i-ua_browser-engine_un"
          ],
          "name": "stdout"
        }
      ]
    },
    {
      "cell_type": "code",
      "metadata": {
        "colab": {
          "base_uri": "https://localhost:8080/"
        },
        "id": "OK37-YOsTaBu",
        "outputId": "93066dd2-57f5-4a55-da37-9ee45b5da507"
      },
      "source": [
        "! head -c 100 yandex-wget.html"
      ],
      "execution_count": null,
      "outputs": [
        {
          "output_type": "stream",
          "text": [
            "<!DOCTYPE html><html class=\"i-ua_js_no i-ua_css_standart i-ua_browser_ i-ua_browser-engine_ i-ua_bro"
          ],
          "name": "stdout"
        }
      ]
    },
    {
      "cell_type": "markdown",
      "metadata": {
        "id": "HGfqM9RATaBu"
      },
      "source": [
        "Создатим список ссылок и скачаем их все разом с помощью ключа -i\n",
        "\n"
      ]
    },
    {
      "cell_type": "code",
      "metadata": {
        "colab": {
          "base_uri": "https://localhost:8080/"
        },
        "id": "f123LrvFTaBu",
        "outputId": "02d4e7ff-c3a0-45d8-a4db-f62b8dec2c4a"
      },
      "source": [
        "%%writefile link-list.txt\n",
        "http://yandex.ru\n",
        "http://google.com"
      ],
      "execution_count": null,
      "outputs": [
        {
          "output_type": "stream",
          "text": [
            "Writing link-list.txt\n"
          ],
          "name": "stdout"
        }
      ]
    },
    {
      "cell_type": "code",
      "metadata": {
        "colab": {
          "base_uri": "https://localhost:8080/"
        },
        "id": "JWrIItXiTaBv",
        "outputId": "0d7e35ae-4434-4aae-8635-afcc2268e9b8"
      },
      "source": [
        "! wget -i link-list.txt"
      ],
      "execution_count": null,
      "outputs": [
        {
          "output_type": "stream",
          "text": [
            "--2021-05-19 20:30:08--  http://yandex.ru/\n",
            "Resolving yandex.ru (yandex.ru)... 77.88.55.77, 5.255.255.80, 5.255.255.77, ...\n",
            "Connecting to yandex.ru (yandex.ru)|77.88.55.77|:80... connected.\n",
            "HTTP request sent, awaiting response... 302 Moved temporarily\n",
            "Location: https://yandex.ru/ [following]\n",
            "--2021-05-19 20:30:09--  https://yandex.ru/\n",
            "Connecting to yandex.ru (yandex.ru)|77.88.55.77|:443... connected.\n",
            "HTTP request sent, awaiting response... 200 Ok\n",
            "Length: unspecified [text/html]\n",
            "Saving to: ‘index.html’\n",
            "\n",
            "index.html              [   <=>              ] 133.89K   235KB/s    in 0.6s    \n",
            "\n",
            "2021-05-19 20:30:10 (235 KB/s) - ‘index.html’ saved [137107]\n",
            "\n",
            "--2021-05-19 20:30:10--  http://google.com/\n",
            "Resolving google.com (google.com)... 74.125.142.113, 74.125.142.102, 74.125.142.139, ...\n",
            "Connecting to google.com (google.com)|74.125.142.113|:80... connected.\n",
            "HTTP request sent, awaiting response... 301 Moved Permanently\n",
            "Location: http://www.google.com/ [following]\n",
            "--2021-05-19 20:30:10--  http://www.google.com/\n",
            "Resolving www.google.com (www.google.com)... 74.125.135.106, 74.125.135.147, 74.125.135.99, ...\n",
            "Connecting to www.google.com (www.google.com)|74.125.135.106|:80... connected.\n",
            "HTTP request sent, awaiting response... 200 OK\n",
            "Length: unspecified [text/html]\n",
            "Saving to: ‘index.html.1’\n",
            "\n",
            "index.html.1            [ <=>                ]  13.43K  --.-KB/s    in 0s      \n",
            "\n",
            "2021-05-19 20:30:10 (137 MB/s) - ‘index.html.1’ saved [13756]\n",
            "\n",
            "FINISHED --2021-05-19 20:30:10--\n",
            "Total wall clock time: 1.9s\n",
            "Downloaded: 2 files, 147K in 0.6s (259 KB/s)\n"
          ],
          "name": "stdout"
        }
      ]
    },
    {
      "cell_type": "code",
      "metadata": {
        "id": "GvwzwaS9TaBv"
      },
      "source": [],
      "execution_count": null,
      "outputs": []
    }
  ]
}